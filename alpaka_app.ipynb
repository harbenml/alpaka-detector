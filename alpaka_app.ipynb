{
  "nbformat": 4,
  "nbformat_minor": 0,
  "metadata": {
    "colab": {
      "name": "alpaka_app.ipynb",
      "provenance": [],
      "collapsed_sections": [],
      "authorship_tag": "ABX9TyMkSjbFARLKinHFg60uLu5R",
      "include_colab_link": true
    },
    "kernelspec": {
      "name": "python3",
      "display_name": "Python 3"
    },
    "widgets": {
      "application/vnd.jupyter.widget-state+json": {
        "00c851edddd746909a3d4aef2de3a259": {
          "model_module": "@jupyter-widgets/controls",
          "model_name": "FileUploadModel",
          "state": {
            "_view_name": "FileUploadView",
            "_counter": 4,
            "style": "IPY_MODEL_e8b98abd42ed454eb35d3e597e86008b",
            "_dom_classes": [],
            "description": "Upload",
            "multiple": false,
            "_model_name": "FileUploadModel",
            "data": [
              null
            ],
            "button_style": "",
            "_view_module": "@jupyter-widgets/controls",
            "_model_module_version": "1.5.0",
            "accept": "",
            "_view_count": null,
            "disabled": false,
            "_view_module_version": "1.5.0",
            "error": "",
            "description_tooltip": null,
            "metadata": [
              {
                "name": "schaf_bsp1.jpeg",
                "type": "image/jpeg",
                "size": 10438,
                "lastModified": 1615802511798
              }
            ],
            "_model_module": "@jupyter-widgets/controls",
            "layout": "IPY_MODEL_4f9560773a1346d2aa3e966265ffc497",
            "icon": "upload"
          }
        },
        "e8b98abd42ed454eb35d3e597e86008b": {
          "model_module": "@jupyter-widgets/controls",
          "model_name": "ButtonStyleModel",
          "state": {
            "_view_name": "StyleView",
            "_model_name": "ButtonStyleModel",
            "_view_module": "@jupyter-widgets/base",
            "_model_module_version": "1.5.0",
            "_view_count": null,
            "button_color": null,
            "font_weight": "",
            "_view_module_version": "1.2.0",
            "_model_module": "@jupyter-widgets/controls"
          }
        },
        "4f9560773a1346d2aa3e966265ffc497": {
          "model_module": "@jupyter-widgets/base",
          "model_name": "LayoutModel",
          "state": {
            "_view_name": "LayoutView",
            "grid_template_rows": null,
            "right": null,
            "justify_content": null,
            "_view_module": "@jupyter-widgets/base",
            "overflow": null,
            "_model_module_version": "1.2.0",
            "_view_count": null,
            "flex_flow": null,
            "width": null,
            "min_width": null,
            "border": null,
            "align_items": null,
            "bottom": null,
            "_model_module": "@jupyter-widgets/base",
            "top": null,
            "grid_column": null,
            "overflow_y": null,
            "overflow_x": null,
            "grid_auto_flow": null,
            "grid_area": null,
            "grid_template_columns": null,
            "flex": null,
            "_model_name": "LayoutModel",
            "justify_items": null,
            "grid_row": null,
            "max_height": null,
            "align_content": null,
            "visibility": null,
            "align_self": null,
            "height": null,
            "min_height": null,
            "padding": null,
            "grid_auto_rows": null,
            "grid_gap": null,
            "max_width": null,
            "order": null,
            "_view_module_version": "1.2.0",
            "grid_template_areas": null,
            "object_position": null,
            "object_fit": null,
            "grid_auto_columns": null,
            "margin": null,
            "display": null,
            "left": null
          }
        },
        "57f6632ee8f947089b89f563f86a9a36": {
          "model_module": "@jupyter-widgets/controls",
          "model_name": "LabelModel",
          "state": {
            "_view_name": "LabelView",
            "style": "IPY_MODEL_1153aeed8cf54af8b2f0a86e732cb65f",
            "_dom_classes": [],
            "description": "",
            "_model_name": "LabelModel",
            "placeholder": "​",
            "_view_module": "@jupyter-widgets/controls",
            "_model_module_version": "1.5.0",
            "value": "Prediction: sheep; Probability: 0.9844",
            "_view_count": null,
            "_view_module_version": "1.5.0",
            "description_tooltip": null,
            "_model_module": "@jupyter-widgets/controls",
            "layout": "IPY_MODEL_1ca1aeb653464c30bcdac78f8d964aed"
          }
        },
        "1153aeed8cf54af8b2f0a86e732cb65f": {
          "model_module": "@jupyter-widgets/controls",
          "model_name": "DescriptionStyleModel",
          "state": {
            "_view_name": "StyleView",
            "_model_name": "DescriptionStyleModel",
            "description_width": "",
            "_view_module": "@jupyter-widgets/base",
            "_model_module_version": "1.5.0",
            "_view_count": null,
            "_view_module_version": "1.2.0",
            "_model_module": "@jupyter-widgets/controls"
          }
        },
        "1ca1aeb653464c30bcdac78f8d964aed": {
          "model_module": "@jupyter-widgets/base",
          "model_name": "LayoutModel",
          "state": {
            "_view_name": "LayoutView",
            "grid_template_rows": null,
            "right": null,
            "justify_content": null,
            "_view_module": "@jupyter-widgets/base",
            "overflow": null,
            "_model_module_version": "1.2.0",
            "_view_count": null,
            "flex_flow": null,
            "width": null,
            "min_width": null,
            "border": null,
            "align_items": null,
            "bottom": null,
            "_model_module": "@jupyter-widgets/base",
            "top": null,
            "grid_column": null,
            "overflow_y": null,
            "overflow_x": null,
            "grid_auto_flow": null,
            "grid_area": null,
            "grid_template_columns": null,
            "flex": null,
            "_model_name": "LayoutModel",
            "justify_items": null,
            "grid_row": null,
            "max_height": null,
            "align_content": null,
            "visibility": null,
            "align_self": null,
            "height": null,
            "min_height": null,
            "padding": null,
            "grid_auto_rows": null,
            "grid_gap": null,
            "max_width": null,
            "order": null,
            "_view_module_version": "1.2.0",
            "grid_template_areas": null,
            "object_position": null,
            "object_fit": null,
            "grid_auto_columns": null,
            "margin": null,
            "display": null,
            "left": null
          }
        },
        "93266b5f4e0744cc93ce71b4796fc19a": {
          "model_module": "@jupyter-widgets/controls",
          "model_name": "ButtonModel",
          "state": {
            "_view_name": "ButtonView",
            "style": "IPY_MODEL_4a33b246ee1346298ff69b56b1cfc9e2",
            "_dom_classes": [],
            "description": "Classify",
            "_model_name": "ButtonModel",
            "button_style": "",
            "_view_module": "@jupyter-widgets/controls",
            "_model_module_version": "1.5.0",
            "tooltip": "",
            "_view_count": null,
            "disabled": false,
            "_view_module_version": "1.5.0",
            "layout": "IPY_MODEL_1ae612a04e34464e88c0aeee5ef7b3a3",
            "_model_module": "@jupyter-widgets/controls",
            "icon": ""
          }
        },
        "4a33b246ee1346298ff69b56b1cfc9e2": {
          "model_module": "@jupyter-widgets/controls",
          "model_name": "ButtonStyleModel",
          "state": {
            "_view_name": "StyleView",
            "_model_name": "ButtonStyleModel",
            "_view_module": "@jupyter-widgets/base",
            "_model_module_version": "1.5.0",
            "_view_count": null,
            "button_color": null,
            "font_weight": "",
            "_view_module_version": "1.2.0",
            "_model_module": "@jupyter-widgets/controls"
          }
        },
        "1ae612a04e34464e88c0aeee5ef7b3a3": {
          "model_module": "@jupyter-widgets/base",
          "model_name": "LayoutModel",
          "state": {
            "_view_name": "LayoutView",
            "grid_template_rows": null,
            "right": null,
            "justify_content": null,
            "_view_module": "@jupyter-widgets/base",
            "overflow": null,
            "_model_module_version": "1.2.0",
            "_view_count": null,
            "flex_flow": null,
            "width": null,
            "min_width": null,
            "border": null,
            "align_items": null,
            "bottom": null,
            "_model_module": "@jupyter-widgets/base",
            "top": null,
            "grid_column": null,
            "overflow_y": null,
            "overflow_x": null,
            "grid_auto_flow": null,
            "grid_area": null,
            "grid_template_columns": null,
            "flex": null,
            "_model_name": "LayoutModel",
            "justify_items": null,
            "grid_row": null,
            "max_height": null,
            "align_content": null,
            "visibility": null,
            "align_self": null,
            "height": null,
            "min_height": null,
            "padding": null,
            "grid_auto_rows": null,
            "grid_gap": null,
            "max_width": null,
            "order": null,
            "_view_module_version": "1.2.0",
            "grid_template_areas": null,
            "object_position": null,
            "object_fit": null,
            "grid_auto_columns": null,
            "margin": null,
            "display": null,
            "left": null
          }
        },
        "bffb863971bf4cbea94978e500e4c46e": {
          "model_module": "@jupyter-widgets/output",
          "model_name": "OutputModel",
          "state": {
            "_view_name": "OutputView",
            "msg_id": "",
            "_dom_classes": [],
            "_model_name": "OutputModel",
            "outputs": [
              {
                "output_type": "display_data",
                "metadata": {
                  "tags": []
                },
                "image/png": "iVBORw0KGgoAAAANSUhEUgAAAIAAAABICAIAAACx52pFAABSnklEQVR4nDX8R9NlSZIliBm3y+/jH2f+OQn3CA+SkZGVmVVZmVlkurpRM9WNGZnuEYEIZvazmB3+Bjb4B9jMCiIDCIg0mlVXdWYlDeIR4dw//vh7l99rHAsX2MK2JmKqZqp6zlGFP/8f+8OR+uBRv1y1pukf7j39wx/+GAcwjeOymB7uh0kUtZlvAKnRYrnpGEurTbXX6+3FUSFzmNK79ayWbT9KkHLHw/21yO5W29DfHU9OvMBrxaZoVp68F/VXhrwttliWe8xDi+w77I9OTpMiv9sdHTdbV+dlJhZdTxYrd7b7EbGk2F7v7/O6qvONDT2WBrFp4Dg5Ccno+fpV580i1HgKcpNQ6B0cji+z5bpYMk87pKvGBN7OeHg6n900tfQ8Pt71lM1Ui9uO2sB0oqYUI8gxSHrpqWklV4uyKhgjzsGybK3GNDR+AmVJRNt6IYwHYxbu310UQNW7IxwTrx/s3d7ODGypbVgYg/7w24vrLCsen54CqUg0WSwXVjWcAiVKisFoEhfuen5XQddLov1eukNOR/txvwVC5pua4bBuNx99dEZds11vKZKYIM4JinBZtiFmgluIIUkDiE1nu0o0oGWY0tjDYeSbtmt05pzsxzGGOA29TnZNmSvZYlgaoBxE08V6d3A2nAwat1gu9XxaQkDqEosWaRMM40Nti0lC1u8uB+lg7CV9nLQWtKSqu1oSjDDjXBZ6U7umH/ZcDQmOAjZilNzOp1mX9fsjiC3lBJOiqstt8Y56KIZjAibZogx7COD5YGI7wAmOgPWyrUDQ5utL0ZaDwFqDh34/TUJA5oQZSASlNKR+UwHmAwD1Zr1U2kY+6VoNrNFVs1rn8cBRF61Wttpup/N2d++0aLiVNrDdIO4TnFpdC2wwtsAY1wIfcIxZzAgHinzx4KNaX98svzcKNLK5un0R+Wzi+dTZXhQA09aVxEATSJjjlVKUWuOBMPI6KdZtHob9TirGYRAy51lnmhEbJPHO5eXSyBJana/nEBvib6umlq6R2hVtOWa7o52TzfqdFDoM/Lq2TWUZ40EQ9nDAPTIFt36AGA270szuipKInZ0xZIzxoGHqZnXblhkl6fo23wn7bDAs6q0Ahnme6CwAtK6scihJqbKLNJmEdKSbneUKze+mxG8sUNJCTnaAHUcIf/jhU8rcxeV3znSMDpxmYZzkrVT4jmAhpTWdpgwQamtRvX59HXqDNOjn26YUMKTSALytluuqrjtysc337z9CJH5xcRFyepSQ/ZP95er28uIlxGI0jDFgO+G+p+u6EiE01JQE685J6QzuDydJvNM1hRGlFSgJ+mG0N1t9Bx3SRmHLejTaGdDOKOF00WS90fAoPV1nGQRAtirfZIOhhz3klAo8Amx9efFtlCQYmyjymOcsBEYQjNl0ca2AGYyTOLXaFFUDGAZ1B4gFIQhBgBfV1AS1DmyrJQqT+4/vX11dR84TpYLWAafr7QobiBwJvT5EEfOHvJdcLdaeBV0jESK9fq+fxEX3xtoa0bLsXjfVDHGCJQzp4753ON4d9eLziN/vJcd7u2NImuzT6WK12qz03s65H4Dffhndrn5V5BccYKsc8pzSEhNvd28Xaupx4jzOeSpqYCDW1pViGfd3z0aTolu+fPfNoB/H/Ql2XV2tq2qDiGUeBcQRz0vDsUfCNVy1zTKXHZmt32nW4DDIK9Mf+L4n4pSWUym1FVkntNeL+rIy61WjRBVGHiYWOxsEoQJAOcMIRMRLwwQjhQ3QthVdPV3chj0mXKth3RtGnew808lOGUEDQnbujWfLrRIsjIxxIAiT7UpZDGtV5aots4pxrxYKFiXCpmurGEcPD06MRW+m190qOz45frLzwEEMkWUD4mG8LGfcBfH4JMSd9lrCGPOhhpnRJo5SKWwS+ePh8O2rm366/9mT//bp479OBg64CKgIQh9Ai1G0NxjsjbkzFCMqpHxyvwQO33axz/Swl15ffwWwoZSORpPU6wNV+hg2WdXf2U1Hj59ftJEvj07Sqja3v3/JgRhErB+23KpGtRrkvUmIKGq6qsdJ0dR1vSWeq/KyFhWp0VZB5fywq9TL15f7Ce2PCU+buhRVo+IBv10v2g4o6J8d3QOmvb1+BQgYHhxMt7nWZczx3njPg76WndOdUE2rhbLb0WQ0Cvqz+aIVrTEuMjwAkTYMYZkEGEwiY4RQsjfsbbdNJ0NMIm3BfLMNYwMbG/KjYbxze30deIRx/Pz2LdAcQF914He/ev7o/ll/3F9sLjHO/AETktQahP5A1VsEbNOsOiM0qDgLjbROhfNNMIgPf/Dkrz768LPx8AEBA6CtAyYvl1qrTrTWmDhNk8EQQo2A4dQ+efBJ7Ed/MAkCpcet7l462Lay2zsaYuWXzVLrBQ1Q3B8K01gX5Lq+Xl0GOPn4g1MPM9E0AXIuKDspDavD/rCTmrJoUZa4XWvb+AHkQy65Jo0p8rrTRUfQsDNyvioYo70hgQa1bYuBULixlFKUQuYX2UxD2zSCNmVW1B7Tu4dDU8D1Mp+M+7VoMaaYmEY0i80CYNiaTiinlB2AYJzE8+nNWm8nR30KddVWZ4cPpGqp83r+yACP23C6qCLuQxlO4qeopeXNXbjH8y5rgPU9ulxtdnoHqUW9wT5BJI1T5pmymSf9SDb6m2+/xWX1wf3dWlYY1dTDXQeB9bE6/OD0r/7ks//25PjMQlWU803+tt7A5fqWebo/CKqqDoKE83S7nrVdxSiJ4qTfG58cPBim49u71199+Z+NDbUqAXO30ytqEgqNscqPAg1F2cK0vwdAUVVzB+o+63vEG02iql4bbj0faUI7XWMWc+qvVivk6v4wLuuNVNRRRrD1hjjJVg3xFGBua3VduWRLIekvatEPy16kOMQpiHC7guSFJgaRPvDlKtse7rC228yuGAUJF5Wmed4sjAiKXCRjMtgbeTFdzzINfAvdUexdD+gLid7O16dxIkdUlz5WPtysEZInZ0fIO/atD8gtBf7EP3759p/uVld876CXuI/D87bb0K5k5HIQDTmtgPXKVeWoRgwznltRDrgMR0e31ZrGFGEOWmcb72T38c8+/p9/8NlPCSFFkRV58ebt6+ViOUlH3333/PGTR+ulRTRkXv/t5VQp2Ov1GAuEIGWloyjq9XeTNM2r7W1+bUjcmqmwyzy/TsJxLzge7D5YLPJNW5+c32OZ0U3dqXVluQORQJmKrpDZ1bqFsE79EUOhUdZSC/skSv15BraVfnj6hJye/+Dy7U2rdTbLWS9SPKyz1mcIggwjIUqStyTh1HjlplPbCvhpDFBQVCrotUFM6gICCChTi9Vta/Oy7RLWsw1ShXfyyUd8u66y6/lyC0bQBGj/9PBgS3BjAi/9+sX3r2a3hzv7GKDVap43VTjo16JMJgVh9dXiP4eD7JPPR7VWAHSVvIFEnD7sX1/Oay0qA0VO2yZnvsvzLNsUSbJnOzDepYkX3W0WpSyg9frRzg9/8Fcff/gDAGFVV0LK2+ldWdWE0tlyQSlZrdfc83qDfpZV600upe2kHI/GjLOyash6E3hevx//+Ce/jIfBl9/+55cXXZm3dZ1zkjmf3E6fl2VTts3dvMIKGmnrShspIXFKEukCqDaYdJRYgKQyHUYkimNtZb5oevGoYdphSK6mi01da4YlAZ7HtW6B8ybjk6DXrTfQdHFbGAvbrV21G6xkshsGed59+eXVRz9iRksnotCHztRhiKhN8hw54Pcj//b25url1GAHWzvwI0vNt/N3xk9HXi8KfGvJyB8NPtkf94dvX72c7E7W+Qa0yGINkc3q9SBkjVkSFtRLB1xDBt140DO63TlI29qs8mus+GgSd6IhnXQWmbYBAuOuxro+Hh48v9Cev/vB+Z9/9vRvKPbbpqvqZr1ec+4/fvJhWRTzm9swDiDGCJP9g2PP9ykPjXNa67ptF6tVnheM0TRJg7l/crb/6OGPgrAfBrsvX37/tvtHDDUGPM/ysipYyG9uXu0mE59xHSSEe41tVSP8aOApgkGHrClK3hZoMZ0/fHgc+6buchp6/QHP65IsNjdRP9nKwus7jfI48SgIxpPD6fzr5W222zs1APq82bT5dGWQCZRTUrief0xN0TbaVmI86BX10gE52Tt2BjhjBmmgYc/nRAMbMRQkUVVOBYeec7DR8U4PWfDTH/50uc2vry5ni5kDjnh8W2R12wzGfYBkVjfadMT4tvaAB7U0cbAHAVhM17oVVmmKVH9E5nN1dLRnNS8zkwzS7TxjnMXhsB/g0fjRX//5vyZg5+ZusVwuIYRRFGHKlXHrbR4lUa/Xl9qMxjvbLP/+5RuplAM2y7Isy4QQlNIgCDxvFUVRXpW7e+Ne/+CvfvavHxxffP3ieLV+A7UOY03BxhHLBy4gpTGA+1HeFlkxbbTqg4mHUwQ9KSsIwqJoqtoYja1EnCR388Xh/ZPatPB/+D8NgzQs2rKRHacBMKRYq25N9ib91V3W5vTp08dZezndXm0by2BgVBvQ6N7xcTJaxD6HzYBYHPqOB6qRarl2Zb1I+37TaIT5eGdXyKZuKq2r6GhP1iAU3J+MgU8jYW/mN6qTyOGybNPheF2WN3ez8/tx3HdX7/Iwaj03HPtPdo/Atp0GPNksK6vo8cH9rrar7KXDWb5tD3ZOPZI0lWlr5ZGeFybxeDzaOT2798mTBz968/L22xfPEILc41JKAABjjBJyfrxbFDX3giyvXrx6e3s3cwBoK5q6sc4RQjBCEEHKOOdeGPiDXnKwv//g/r2d8bhV+TZbqrqmFEJoLm4uOqNE9+18fieUu1u+tqRRGjU1AzbHrGRUcZJsl53vsST22jXsnOqgGe2N15sVYTCh0MNIE4ScxPVG2NZBTJttPHtTlMVsMmGAAavT8dhSsvXhqF6pYvNd7AVNazj2VBvIwlhUOKaKosMBmm1yhvs7/WPORr2+f3t9OUnEy+VKbOU9Pn5RvKgDMJYgr5bDdMBx6AderzfMGgshvb66jGtvm1Mv9BFEvQTk6wvm88X13Mig2oh2fsdwRPsn6fDTJx8cPzj7MPF6Hg0Ipn7Uo34gneVBQoF39Wb28ttXs9XMQcAYC8MQAqC08T2+WC20stqCi4vL7TavawERbGUlpUQQGmsxxpQQq2Qru6ouqiqvy0K2lTw/H4wnBzuPsHVGSUrJ6ckPHUbAzY1C2bZ89e4ft+Ur0QLZDgqz5UFZd1MtDTJL5wRlrvVbbAF1xGgY0ITA1isaON8WXkLyVReynpIl9fn1xcpA89NfnE8O+LNns9HgYHiSI5qrWn7y0QPZzmxrlaI//PFPyjUqtnnTzQAUjIm1zX3POzt46NFetqmvr2eIYI+ikMe1Wg6OdhVsX6/fOgyM7DhBHOOq6Dwef/rJ/TAaLrP/4oAJOEuCiGi4WN/GKRB1t75dIJtonWCOf/mXf/3RF392cHwPW2RaY7SryhpCbCyuCtV2AsJ1EibPv//u+uadpagTrccYI9j3A4wIRLARkvPg4nZ6t87KuhNKeZ5HEBVWKmscgM45rTWAzgLLGSUYZIW5vnUQu952E/qxR2jbNFprHgSYka6pGI4IZOPk6eHO+WiwB8zQBoEDhTEZRXQ+X9zNLl+8/oMSv9lsbzAHu6MxM5Tspr393S/e3P5+WT93PG0lBL44OI3jpN3fHxwe6jq7OSoQIxKAOkh9tGs23TsHkzROgYXPpzPC+5PHO5u3s7E/Um0JkRR6I9ViGJnCLo0pME9Lh2KE6O6gC7DbuoHR/R10MnlIARONVh4GqtsbjDGG5Ha2urs5Pk7un96/ulzM5lWtQ5Et1RodHuzS0fHTz//ilz/7uzgcFKtlt15ntzdCqlKoDiCFHUJYChNEsd7fX2d3tcuoTAggw14ax4HvRQgx66Bh6vXl3dV0LaTtlNXOdV3rrLHKOGCtMxAjQhCAoG5KRQiw2hhPGhv2+6vFpsoygjFwzhhDEFZKAuPCIOilads0vh8eHTjf3xjUyE4EXpAkvXF//+yHH++OniR0d/3d/xaMxM3F24GNCWZ6lb8lVEeBv7d3LA3g0Ugp5qFANcXsNnM22z9JPN+7ysab4oZbQIHftGaZ3Rwf7t9evxmOjt69+b0SC350oKBMaTSKequL20CwalWhzvkeaTdF/2iY7Iyv72aEoCjFrdxyTiyA0onBKFby7dvXWw1hwlW414swU1W50++J2kgD7z/4XA+7NNl9+uOf/8lP/5oK+vbb309v3onVqpkvjJCY+YD6CGJNqOQUYnN9p410oEUKy+GoTwihjMZpBAGrqmY6X97e3nXCMi+SEEAIDDDSacipT4mTUonWSIgwlHVrEMYWiKrp9/t3F1fldmuEkF1HIQw9r6vrrq5DypC1MefDKGjaZlZXAWeWdxAjL0ih5+Mk7R8dfvz5D//ub/4lHoLfvvqPXz7/42GckrxeapX5IefMC3wbYBDGYdfG1NjlDKoahWGknDo5OQzS5PdfT0XehVz7MKEeHPUm++Pe1eVMlcIBSTGosQK144bvxHvZPOfQT/uxBSj1932FIxTWm6twkHpetCrmTpZIG5kXp4fEWYmM7Kp2k5Xj3qhqWkPp8dmJmyTbRhkXNwKdjB9++oNfYEPeff311Te/z6cXsChJXfsWMS/SDmHEawQrnwjdDI7ut0UNBWQpY4xGkX/v3mnTiLoSq+Vym+fOQQRxWZaya2TXKCMVhhyTiFFrzDYrmiw3wFgC9/b2OSIQQtPJ6/VFUxUcI922MWeh9G2WYSEowkQp2TaS4UBLr2uAaCGoIcEd5jaKbZoWLwd0Nb//o1/+7Id/s5Xt/N6VD2oCIEj6eDZdGYua+h3zHYLDWj7La+0g9b1+EMZpTytRZO+qPdZbzG4B7rw4whjfvZ76Ib18vvQ48aN0Pe/iaA8q0mzKZBgu6m4wGPX6YwQZs5F2VUgHHu4Vaw1D3BTcQMAgnsQHg2jXGlvWnai0rbxl1srGHO4fvPj6tjMAB56UVZxMHj753Pf6dy9fTp89069eR9sFbVqvk1Q7bTYO0Y55xKdx4kkMOsTffv3Nm8vl3/6bf9Xrp08+fNx1dV0XVSWsM8AR2Wmhbdt1yBkIjedTjIhHqdZaCZlts9uLi5u721q3x0fHH3/88XA4TJJEKqWlxMgxZ0FVZYsFbluOIDOOKoVEB43EVkfABASRtgMQG2q71shOO6m24nffNPDoz352PPnwxc6vZfOaEBJss0VV2POzT72obOWiWAgD/IgB5dq9yXlZdNkmW81vq5UY9t29/VFbIkYYIOrVizdFMT2cHO32k6hvalEgnDZiuXPQ3zSFpNB43nRbEMeHCVvn8xd332tAy1rV63y0u0uEOZiMBxFf3M4Hw+FwMJZyrasOY3a2v5+kwxdvX1/Nrw1ST598jImhlJVZtXjzVlxf+9sCF4K2krStEQoBWnZyCQAIuJcGtKq1AF988LDVjnKyt7vTdU1dVwACKbuyKsui0tpqba21GEFMIcFICW2MNVov5zOLwOHZ6fGDe7P1HDgQRKGDQGhlnKWUuK5pqxIpHRvNROdD2IMEaQO0tnVTtg1gxFISOg9jAi0hCtpGOVw7Z7JXX/s7J8H5jkeDTbMlbYO8INrfm9w7+VHVfmXUlpBjnz+qxHM2yE8Pz16+vlA2m2V3OGImZhRQJR1PedY1+/dH/SVst6tsmVuABNCOZr0BR5EejHpsr09ILEuYLZps9X3U01FqNpum7/dTMByPA1KJcew50zGKpvPlUZzWuvN8CDRwQPDQHpwlvdNjhLTON0bGXVuV202zmNvF1BSVldZIjZTR2kqoagQkpp4Bft7ATuUCJKO9z3/8SX/Yj6JQShEnsdnmQgqjNYSEc7+WVRAEuiurqkzCECnYNa2zJivy8WiAIOQ+7x9MnLWUc4dQ3tZKaWONjxGA0NSVkZ1rOwiQ1I5AyChhQYz8SGm9tWbLI4wRIxASADi0CCDd0fJu8+5dNO6Nev28oMRSqbSWzfzm5h8EnFaqlGoeAxynShTbl5d/v6nWyQAmIwIYk1hFUfzuu8ueNMS3WoFwlJBwe7gXK2F96Of1fFnpTR6hNOhwvprLneBBL+HMs8pUm03OUTgeBEII2zRVttSFmU/XH3w8EHZ+cymO935ADui3L/5xMvHpWBbtWz/lEUkLqXxusu312B+qxipMKg9rSiAGjHtIOQQIRSwBHTYGGweBtW3pc0yjMIo969RkOHHArpebfhxHPNpxbL7ZyIsLbRWiJIl7HBOP0KqGCMHzB4+kkowxowVAlnLunEUIGKW0Eow6CLQi0I+HtuyAK5zLFfYhYJAgDACACAUcE7bVxgEHkGERQT52DDCPcOipbClv39brupgBwn0VwQSTMoneSmI3K9vRjrK7Zq2LWTVKoNMOev5p//jqLu9c28i0WnvMhP0+iXpR1s3SA5kcYNQeP//jTZ5tj49GAE0ur25w7248PKW1w3oZgSgIT/KL6+uLld0x9x988Nvf/lPXboZJgEBfC+5hb7c3fv3Na8FBvC9aur3aEEmqpli/urnbifcsXlXVtWrPFWBislf6vGmkIyywoAcR6DooZIC0BbhVEDrBfABNO0r7p8d7g0Hf84O727u6aqzUPvOUAJHPBmk4nc+aunHKcY8AgsMksdZqYyCWECJKKAAtcE6IDkKIoIOq00YSjiD0G8ggHrtmgZCxNgKa+E5howHAllJFKPGAQVBj3vhcM2oZ4UGIOBvvh0V3/fbtFYZH5OHkfHE9P955UJY32HMHgX+3sOsbQYwLYT8O0vmiTAf9+avSQ0eIqtsXOXcniXf4pz/+QSnfbisJHG1W7gePPztOfvry+et01G3LTs9UvbIDj2JCfv3rr8/3j8ejcH5dJcGE43jU2/sX/9XfXc9eYf+O++bN87LY9g5OLIpz6tAwTme3pqlFB0EtyoPhYwI8jN3V7NthcsTGUS76roUeai1FFLTG1pZkgeeQC4DzPICRhQgrmc1Oe597lLdNN58tp7N53XRVVYtOyg6+vbosZQsJxghiRgBwzlnOudYGImiNMdZqI4FrnXPaCEKJMVrqJvEHccxHYy6qTq5tt0yzxkSiQUS0wEAKELIKtArJKnCAcsh8Q0Lkp2EypiGjB3nBqv/8x19XphmkCbldrCHyq44gb1yJ6puvr0/Pn3JsiuUm224///SpdvWzFy8Hw0G2/D7pecN+sLczPr63U7bPbqcvuyb3fewRe335/P7JZzu70Xy9HO2MP6FP1tUw25TS3kVxOpokm9XFBx/uDAejxWL1uz/+P09OzxRROCw6lCe7uw8e/8jAqQaGE+RAEcB+U/U7uXQ8bmsyGgy0WU7XL9oWffLBP3ejAaHYVlmIIx9aKCrmlFWdaJwy1ALAHAdAII8HXthUNYBwfjP77ttvp4tla8w2y0kLHEYCOkAxJYRjaqAElCmtOOeMUWO0lcYAba0Azlkny6oiGPX78ccffVo1syDdknjLEi893Cu3KVpvlZClkp3VhGLisffoB+KcBxGgnIcx5oG0zdpdL+bbsAdiHOerNVnKDhl4dzv77NOH0zfPrR9fL9c8aIynbCRuisvJoxHalz4JLMiDCHmcay1n8+8gW+7vjdoiYYxLUd6t/lCJt3c3K4qHChd7h4dwbovl9v6jUfT0XpspyuLTs1NnHfWDcDvIysLb2worjAIkyoz3TAhnjS/EKolgwHwKicdCF8HVumhX5WhfW9dKu7lev0h6xzCUPib9eJTwPpIUKCQbBWWpITAYgW7DoW5hBHqj5XrlEfrr//gP/+Hf/wcehI7z67vbg3jU3xlDnxmHgDUAGwhg6HFCsDHKWk0pNgYRwpraaa2V1s5o4JCzIEpZrfOLm19T3gXeHo3heKcf2FMGfd22SrYOKICVH/mEDCACDmlhyqq7K6qtkKVxSw+hfj8yyn745DEZjAfOhNfvFr/56ntr2jBM18ssGZi9w735zVzZ9npataaBwC42bvvmJvGbB6dPCEGJn5RZ1ra0WVRNt733IBrscMgnWgQ3t2+o3zqRPjrf94Iiy8vZ+k2v579evB4NJ6XuNCeUQeMKLShlUdRXXXfRNvH01o332IAD6qm9I8+3wW21Pbr/cAAp4Zv5/GaQ+HV7nYk7Fqq6ztCt34/2jvYeebSnPejRTkLTQOhQm1BiHcpNs9hmsJXr6SJFno/8rGh6iNfbLC8yloQnjx5AjIyWAEAphXPWWkMpRQhbZzghYZBqpSqdC2sIQg7grmsIAQTY3X5PCWP0WpHW+HEhDO9zjELr2la1HVh5rFuvl9aKOGYWd42eFsXm/OBQK6OFdFLNs4zs9mLVhTkrq7LeH4+H4W7vg/7d6ldepz8/f1KW7ZffvsaB+/7qHe6lR2cHPgzDvt/zcX+gCpGzKB7vnPzu97/PKpTV1dnBn7y8/W2n5m0DY9onTG/y1xhORodJ3WWexzWXtRVR0t+uatRElFCMYbXugmC0s3+W+FSQclV81ebFdnVz+OEAA/v7b383Bt75aZL66fWbt73dMYzUZlnozgIHp5dfbZZfQYe5F4yQz5PBBrjZ7cVB2u8n5/fCT2vRZLfz27eXMfRApQbMh1BNi+myyPfun3JCDAKYEkIZgBAh6BxyzjlnnbXAYYJ9YJESTivAKcOIF7mwjo7Csx4mHbTrojZKZPkz5/i8kzzgUud5cbu7m8zd4s3rd/1kfMLPjYARj1ogeJBipdtskzVFXhdEva6jYe9PHn9ebbO767eV2tTduqs7PzjqsrTaZk/PdnbG+x78uvBz6hb3dp+2Wdc5Xvj291/e+dT+7Mfno8gSoGZZuXsOQSRGaSh0RdhtGoda+QBhYXfaxuvzPqv9iefKRnWtuL6bDkfRftCrS9vVLiLEZ8hPw826X4F5uA+X5Vvu6eNjL5SD0wcPn339LK9qsbQn6cFgkkpZTecXwzHHXlOUOcQEpYe309uyFpHPV4tcCk4x2RvuVsvirsiGlnvKaeDeXL2by5L4fn9nxxHSti1GiDIEoTVGQQCBA8ABjJzWGkNoHdIGIIgQJMAB2+EoCiHvVyVZLG+W+Zu9o93Vu7xpuodPz7b1tcUOEbYtAKBoMkqd0etlhkFswY0/VK/vLpOEF102HO1TPCKeNk7V33133WxroLvx+RD3YdWiV9e3spz6vBv2TUD5vcPRrRYRHh2NjxemFKadv2sC//G4Fz/76rcHI3+wOw4H5u31l0FITZdiD1Quc51FdAAQyzNz9XZZseJ0NNJGwJAA0EbDgUFuU9TY2t1R3Ik144Ns7jflWbYF6dC3pgNAYNOQQM7zRbKbBOOAYFK1reeF2sIgjsMo5WxwfP/D1+++fHbxVmZmEA6z+frNxezzHz+pG3hycAIhvf/JR+27GdpUoql56E1G/dHB3nB3H1KecB86oEQnupoQAiHknFNKMYJSKqm1cwYAhwlBCDrgnLZJQi/v7obpB/Gwpzx8N7uIvfRoJ7Rwc+/hwTLX6+uiKJioKupR4hWELEbjuOtoGCdyBfeORhYUVbmOoxEho2bRlltd9YY9oAhPyareNsrwtK66itPJqkDCLvwd5w13l9e4fP58NO6Svr94qQ9PjwdDkt2KrtX5inTaYKUlDIaD/aJcdF12uLPXdaKp20HcW3IPITZdFE+fflzIFgcAVE1TZ9DYk5PjkJPNaj0YTZZ5uVxc9VNfivrodKess5VspGuX+XR3Z4fz+Ob2ptpWdze3wzQJEtqURkA9n940Evg4Ge31Iy96lX8/OdyFCK5Wi6cfnJOAf/LJxzcaLZqLkKH7h2PjRX4v8ZgHAeLMc9qUbaah8DwGAJBKQAQQQgA6KSUAlmACgIEQIoQMaDu9mewHyDWy3jRivXe4j53VusCMfPv6ZdWpdDxYbW8HKQ3DveldNRijINoc7jzK1zwOy6ateQgg6bLqNdmIfNnIWV7RQRBzv2jEzXx9Mpr0R3aR3QaDM4Z6cVqTnnl2k3GA/RAWXQZqG/cCi6vpOrt6t2iW9uH5g02+DlIqQchHB+N+b7W+UB22GuZZJVR9ejoqZpnQ+vTRgz9+/e03z77rjfCg13MWVJmzjFNwdPkuM6AIAoGRePrkrJUFpjiJT5VMuq6pKjed5m/fLJM06vm+MUIr1LRt17ZSmTCBWblSXLQqOHwwotz3OOrUXdtVxjhlZNlWwkrsMegziBCwpi4KWVpKaVe3QrY8xr7xAADWWkIghJQQRAgxRhFKnLYQQgCgdp2GpUX5arZpRYG4VqCzaByPxtqAsJdTuDD023sHzigqi/1h+tHN2yt43KnqFUN7rShJp2tRCIkB9wgNB6OIr8o593qyFe26zrcd2YPWqtN7O07ae6eHmGZv726RTnYOxE4/WN15s6nkSYNkWef1eDzwJ+n0ehb5/vn+qSKj1ap48+ZLRARFaL6YC9menB53jUAUHZwdV7K7Wyyssx7V/djXMiR2FNLjhx98cnL6gCBStyVAdu9wZ7NdbrI1C8j19FJK2XXd69evvfNzjKlHMo9vABZVscUQnt87XW2vLDHDHX+xWcZRH3t2sXzu+WnE7n3/6uL7F9+VxaZsCi0ARjEGXNdAYWcQNNZ6lPX7PeYzAAylTGunlDBGIUAgREpppRQj2DlnrcUUbapVoy+NSRpZGGj6QVi3bbZ6d7B30k+Sq9trjmmbdzvDo03OCQLWKgD922mOHIZJd3W7SnrxZm3qEpDr26k33PEDjpA5Pz+aFrcd4MM02mw7LQhCeS3fXr5+R2gPVO32tglNyNDO2flgXn/XNcX5/v2qKovtav8kqrbCWSRlHsXw/oMDbToltezc4f6DhE185A4mURT1L66yJD2idHg4wSeHjz99+ouAH0bBLuepM0A03ShlygjXmkHUG6WPpG7PDz9XShlr/+onRmtTFMX11VfOTV++/eNMvvFYqlvKUNwfUe6FXiQqLbOsAjbVpluvFnVbV22dVQUi0CCXl1soFfYo8JgXh2Hk74yGAEJHCYTQOYMxUkq1bQMdJpBbawAA8P+/WqHClFmDAEbE84HzpaKVvNsWy0bMzo+fiC3plkNoieBDgzJA161a9oYf5JnYbJQ18/V28zAKIi98cPSYjEfhot3UTXW0Hy4W3zVmkyRWiaYfHHmoyZqX0lxOJinQbBRgWZ318Fl6yN8un1nkjXsT2CqKDCAlDd3xYL9pxOhwlNWLpqucUVqB0+MzgsKd9OO0tzPa3YnT/mq9CbyAYjL2w9FgXwqqNRGtVmYrZUs1aFujrPR8DjTwI3+9mPfTMUaIME4Jscj6vWh/cOhA9eEHP9vkm9W6WGezZfa6yN989YdvW6T2zweLRYalGQU2hKI/7J8/OF8DvLm8q4wkAfWtAhQ7TgHDvs+UKgn1tIFWW+AcxsQYo7TU0iGrKcOcc+TexwAIEXWA140ERtVNHSVethWrzDs8+rQulk1R7AyHs8tCCwwN8SP+1bNp3L83u+3jsCLgar2AOzs7aRL3d0ZAZPD/8n/9cD5fNUV7snPojAOEeHHQ1GUlnaU46PMiK4qVTmLP557N9xu92ZrS2Hh3EKmiXM3ywYj4PladAtLPVyYYQ+GaKBg549+/9+lHT/7k9ORRQIcQYgiRaNvAD6qyooQwFhplFsslBMABpYxo6nrS291st3Ecpf1elm2NtVEUAgcMsIRQRLDWuu06jwfO6jjyKEbQobouFrMbGInLxcVyfffy3dfvLl7s747qShzGn6W9o3Uh57fL7WLubCNkqRUwDmgALcaM+4x7EGGKkLHGWmccMM4RSmWjkMGccwgBRpAzxjgfD+Kdk5vafltu06qyeXuBYQoU6fVQnJiyWKXJrm5ijx5AHsPqpWrnp5/9xcqx9fo31eabQk3Ozw99D2SbNXaGdEJP+rs4YAR4CgDfj6Z301abZLdfqGa1VRdvth6K/JhqpXd63vTiqnZGtdhvimGfPn58ZhSo8zbAnCfMymUYTw6OzuNw9MnTPx0PTzGMjcbWSNm1eZYpIXzuxXFcVZU0hZSSMtx2jRAdAA4CWNaFH3id6Jq7O0xIFIZNXVtnEKVt28RpwjzKfaY6QTCBDs9u59lmu16semkvCcafP3nYdeWPnv5F025akZV1RltfGR5nuqnkar1o60p1Zacs4x7jvoPIai1BRwglBBslpTZKW+MA9z2tjIc4wRACQCh1AEipOinyTL+8eltXDoHUOjkegyiBUqwoCf0AdV2VZzJgXKhVSJb9BGw3dzQ9CjAPRwe8Hl++XB8f7+drAKEjy1XZ82JbRdjE680yHFQXNyvDkkSYRZa/u7rppTE09TLLjo73AlYWc/nJTz69fLN+crKfLS99p6LenvSp0kBb6SfNw7OffvrJL3cm+8Zg01FtMYJ0ld+Krrm5vobOJVF8e3vreX7TSkJJr5+u11vf96w1k/G4qwXGeLPZhGGY9nrL+VzILggDUVZxHK9miyAMozjyIF3N5t+/eP7u4uL49OTBo0d+6GPH25VBJEhJlES7Da5GXPrUhclwsW6h8ahD2SYVXaFULZXqhNJGQ2eslEpCBYl1zjng3stRjIUQEsowxhBCpZSUklJaNmDHP+/3Ptw7vrOCWnGYJBh7GqLxfHkdx0EYh7PlmqJgN4qvqzLrwFGr6suLFou9xyfttWjW8FU2QwgOhiOinKk78e75stoA47qTh0PEKfDS5TqrmvaDh6dKyaqQk/3dTV77ZPb4/AOZiYNJhEGHTcxcf3Z7zcOg6QD3d//yL/+nh+c/9WhSlRXG0GgBoXIOrNdrq7XoZBony8X66vJyPB7PFuv9/b3NZiNlt7u3s1wuOOP7O/tZliVJEgTBl3/4QxD4QRi2bTMZ70ghQu4P4lQI8ezZ1y9fvqzqau/48Isf/UgDa6BLvIg62HWdlqapOt+PSUDjCLWtRAqEmA+TASNkvZ2pDmIhjK6dVU4rq7UxQDpMGKWMY4gJRhhhDYxzlhAipcyyTEoZRdFor/+jL/7r083O77//PxvUPnx4buzmcvY67sWY+7N1cXjQ81OGsEBSIh+YXvLu5vrlf7r77C8+/sNXV9Mvb+MkOjs/4R7TWpG8EsgXn/zoQb5sKEcK5ljiXLaDyDvxDyCUQoH0/njdSD/p9QxqN9W2roKBXdyW+Tw+0ju9cViq7cnZRz/6/L9P44+hU227BcBK2UgpEYLOOWftbL6Y3t5em2st1Xw2W682Qrv1ehOG/r3zM4zo3t7BYDC6uroSQjDG3rx5U5blYrE4PDo8PDooi+Jo/2Axnd68vXjz6vV3330XpfFf/bP/KkqS5XI52duF1szu3kz6/bIoCaXWCM44wjpbNmVRIsR1XSFrtTYAcYs4JBAg4Zy2xgHjOOPIYYQxgggRgjE11jpjAQVa67Isu64zxlBCMEAE8MOdT6brz79/+V+ybq1N1Rp99fKS0QDj8Ktn17003rvXj4tazdVmkae0/8Nf3q9UYY178HAyHA0QBZ0qa1mT+cyWdP3o548BrFpZGdnVXd1JPUx6qi7aKj85O67rbrNcDA6TwCdWDhpoC30d9mIfpTfFTAe79+///C//6r/zyE62aYEuCdSYUEYIsFhKuVyuqkYPBsPtats1TVGUbdOVRZWVTdPUZ2enn3zyCYQQY5Jt84uLC4RQHMeEkMlkYoyJ43h6Nz0/O1vOF8+++np2dXt9cWE9+sXP/7RRUmw2/X5PVPVqtfYIbDuxzbN+P/UCkhUrhCBSeNDrQYjr7bIt8052iFFgYwc6i5Uf+55WomsQwk5Zz/MchBZAawxwgBIKIdxsNm3baq09zwMQMYguXn5zfO/8/sF/8/bydlFfI+xL5wcRM5p+9PSzv//7/1K27tnLt4cY3ts/U7fLow8OsmKl5+vz4SCOwtvZNORJraptUxBRj1u9efXmVeAbiGDbagh8Z3TIw8gPtwb6ICJekoa2kVOJ8N111hI+eBBuVx0OyqNH57/44f/x/uFfQeMp20TpSpWuKY1zBgLseYFsTVcDpcx2swiCIPSD25vboiiDIFRKA4Cqqr67m/YHPYrQv/8P/x4D8ODBAymlMabrujiOCcZHR0cIot/8+p9+96tfFavtwc7u0x/9yOvFDoE4TaMw+v0//dPuzi5n6c1dNhrthnGYbdfU87QUoyRazRbz29v9ncHbu4tNVbUOttphCLXDTV0b2REEGUJaCeB5RmllnVAaAIgxy7aFEAJC6Hme53lKqyYv3z7/apDuEv+DXv/xdfX/8ILD8c6ZVe7Fi+vB4FTI3/ohZZ7xEn97t703OChVdSPvUt9x0zBvPBzvZlWV14J6MZmk/nB0UjULSBAENImHWorD3rBHhpi8DpJmvbU8jVGspWkquB8d0gElZV0Lh/v47F988b88OP+8yQVCinPbCiWUtgjKThBEijz78g9fBUGA47Co216aAgMQCfywv1yvNSI4YDgIk+FAO7eZzyCEhwdHwrkOaIPMeNAvNtsnj+5vb6bfX7z79qsv6647eHj+9OnHvX4vdHjUG2VZdr1cI4iDIDSmDn0LgVwtSoBxQHw/SOrN4uLNC874g4f3b9eL/MXz2e2N7ACmrO46oRQhKA595IglftUZ6xwE0DkkpVCqscZCBBkllCGIbK+XtsqtNuq3v/3V0dnex+efrX//vNisMrM+HD8axWB++eZP/+T48u7dcOdAleUGd9v2LvCivos8igRjyiwsc5o0/WHImI+++PwsjnBTtVpgqyAEcjSMGOXz9etGlMK4RX4jXL43OfTMo5t3cGd8drB7Mgj3H5x88q/+xf/h7PCpaATBhhFntMw35WKxWizmmJDVevPll1/eTe/qulrM5qPhcDwaV1WT5XleVUKou9lcGe35fhTH09n0+++/j+IYU5oXRdd2qu2aLP/BR0/r5fp3v/rV9988W8znzOcPP/pQUYQoSeOkqqu7u7u6a3/wxede6EPkCIHb7Wo0GkZxbJ1DmD777ru8LA5OT7dZsViuy7Ia9AcB97qmMVKlcRRHMUREGgcA0sZZ6xwA1lrnAMYYYeR5HGHEGGOMtW1TlNX13fzubqpkc3c1DegQW4rZ5rd/+Idi4y5fCmwHaRKcn6dtCxqJsloojYEgwLFOo2zbFZniJA1o3wlGEF37HtifnFLKopi9vXjW7+845ElyU0rihzuHfV3LucsffHzyt3//8n+9fH11enQS09PPPv3rp49/2mWdsSANE0ZonpeEeJ5nA5/kWfXs62/rqiGYL+braJBiALq6rooCY+ycE1oCAAghjLGmblbLVV1Xe3u7AOO6qqxWwyR5eHBis+rNd88v313cLeZl10xOjyUwo+FkvL9fi+7dxcW9e/d29/a0EEprC+Byudk/PGqlitOeA/Di4hJ7/uG9UVF1L1+/+/a7FxLB3eM9zgRar6SUhBFlrbEOIMQ5cc4B4KRSWmuEMCFEKYUxQQhqrfO8sNZg6CFHqrpdrnKFiul8vaq3CteD3gl23WK7uv7V3E+06BDDk2yTawzychaHnCPhUdrWcmd3dzMr3r653dvfI7XajPYOZzeSs5hycHBycHOzRIgf3PdWS1EWdTpRna12E+KTfHfXiHY2vY3+5q/+h4+O/5mpkZRFEAQQwbIq2qZTEjAabLfbb7/+tixbZ6G1VgjRNNM6LwlhWV720l6W5U3XjscjRhmltGkbxtju7q7n+xfXl9lqFXP/8cef7aaDX//93z979mxb5Bq4Jx8/ffLZZx99/oOwl9arje95v/jlL7TWTV0jhOq2WS0Wo8HIDyNMaFW30+ms7ToSpelo/Pt/+t233798c3EbDwdeXnMWBEFoVIeBVdYwP8KUEeiMsdZZQhhBBCIEAahdQylFCCmplNKUUW0sw6gT+uLt7ZNPDj/64IuvX2rsgeur6fExPTsiRc63Sy9wD797/uzqdv7o44dVU3h+rFuFMVO2kqodTXpR4itlybKoHan2zu57rP/r3/yn3UNvcrh3c5WtSzEvu0E/tZRIa/P6jW5fhsNFxEbnu3/24eNfqiZodRnGMedUKdG2jXWAs2C93T5//no6XRJIgAOiFRAiK5sqLzqlGPcHk52yruqmiXt955zoOiGEkjJNI6Xk1dUVc/Bv/+KvkbH/9t/+2xfPv1ttN34v/ruf/+2TTz7uj8cGIYdQtLODrSuKQhujlWqaZrXZ9AeDvcND69w2K+9m8+V6TQljoTfd5EWnLm6mm6KWmAG+CSNlREkR4BgYAKnvI8KBks4ZZ6wxmhD+HoDDSDPqKaWMcUoaAJAFII4DBIkQFsPw0Qfns+W0t1PX5dZqrmQkunIyDBipkj57kJxEsb8pVoRyhpgyMuyHlloBxJubi93dASHB4HffvD7Y1xdv7zBBOB6Phr1Hj/tvp89PH/WqVuYVs45Ks+5HSeQxn4xO7n3hQNJ2OaSWkBhj17WSc+pzNptuLi9uyqIJ/KguaymU1Q440+VF3VR5VY/390meQ4TCKKKUAAgwIev1mmCAMdxmm53JzmePP6QY/+M//IMy8vSjx//8k48OTo97vZ5UCkECtW2rFmDYSOkAgAhaZ+um9sOAez6AsO3kze3dm3cX683WD4JKyzzLVdVpgAfD3SBNW6E7UzSb6b29oWzrMB0aTKVx2DqECMbAWmutBQ5Y5zjnAMD3PxLCWCkNCMqrKsA+Q+H0dn16f//86MnXr/7Xxw/Pt9ugqUQcj492ooAQ4A+Ec502x2y3F6dIAy0Vjiar1Qpp8+Cjj5QU5O31yhJPIXP04BBBghHLKp2JJSb9TletLmc3ZGdILelmM6Ec2BsPxztP8qpFuEjjBEEsZUMptcDcXk9fvbiczmdt0xVZ4YzNtrlH/aZuRLEtq6JTMhWj6Wwmuo5S6pzTSt3e3mKwm6ZhVVVa6S+++Pxk/3B1d/enP//zvaN93gsRp50UtZJWGdFUdV7VZRVGgTSaYCyEWK3WCKPDoyOf0ryo3l5cXl5eL5erqmmX203rgOyEqgTlfhDHfhgwACGG9Rqu16vAo34PauCEUFhLBBGhhHu+lLJtWmuNHwRGG60NhMha17XCS7h1zlhb1e30bvHVH799+vmD5eoHs7tbTYpGLbAH3r2jJ+OPi+6iMZ0f9xDVq+0sICElfhTvgUxv8206TMt2TVgsY5JYCzCixWbjMa2svF0XB0f8IDl0zVgVlypyJGZlJpw4/uxP/03ijzdlmabDIPTLfKu0isKok3qx3tSyds4ZrY3WopHAoG1ZVkWV11Xbtjt7O8LYTb4tqzKMY6Mccg4Q11TtuD9Yr+f3Tu+dHp5SRj/98U+11sYY5FhXdGVRLeZzrY0xGjhACFld3Gy324PDw7qpKefTxXy6WB2fnAupL2ebi+m6qrq2FW3bNW1lrbHWWKsd1X4Im6YjxvP9tOiaSrtquukNXECpsk7IBsIAIQgQAAQaaep66yxECFhrrXEQEiCtAR0b+GHsK2ivb7b7+3A4OKnN607XkbdfiamC+axdbbf8+Oz4dvEOUjvfzNLe+Gz/gWg342EYcXf37lUvTcliWY56MQ7gaDSII7LdXufLzfZOH+2yelNAFQ77PYJ0vmlt63/06E8+ffpTjoKdSeh5xFmtlaSE1lW13RaccY/zjdFSqaqp66JxBtR1u80322LFOAEIZGVRVpVQkioZ8eh9O2LTNG3b7u3uffz0aRRFjLG6bZ21hJDb27vtdt129ds3b4MgIJRsNpswCKZ30w+fPFmt1wCAd9dXWZ5rrW+mizQdtm3bCQExhhABCBHCxhitNYRAaWOsBQAIISihEmGEYdfJqizCIJzOV71+XwqhjNLWKqUxRggQ0UkpNYS4aVufB57nQQCtNUorxnCeF+8uLk8fxoGf1pt6s934CVIKNm17OJ7U64xq9OiDx9R51IuAgE1eEIwDRieDfl1WhOEwzxurade8RkiHMbLQ/uVPzoMIZduCUL436d/cXffTIYTjjx//3MM91RpGGQRWSBFHEcFkNpu3dbNZr68vL5erjejkNt82ZS07tVqs1qs14dALB23XXN3eYEaHw6F1QCuFIeiE3d/f9TifTCYHR0eEMIyQMcY5t91upRS3d7fT+bTIi7ZrnXXc4wjC7XrjnJtMdvqjoReEervd5jltRV2L5XJBKceYKqWy7db3vbYVEDrf52nSq+uOUVqLRkmJMbLWMEa01svVinMehqHS2lgLASCEUAKhM10rpJTGOIQQ9zhCMAwj5xxCSAgBIXj79u3h2YexdzKVm6PjfiUWcZoOeocPd3Zvbq6+fTF//rvv+qPde6cfvHrztinKqqwQdMNe/7OnH5Hdwf58vgJGh2lUVmUnQJp6vYTf3N4lvR7CYL3JsA0Gwf3PPv1nj+790CpCMEMAUEzypuWMT+fLzWaTbcvFbJ5tt1mRrVZrThnlJIz8Dz44Pzo6kkYQSjZZntVFJyT3/DCKmrKzFns8xBg3TdPv9zGEwDmplLO2LEtrbZ7nUmnjwHq7zfNcSWWs1VqlcdrU19q6Z8+f9waD9WYrlCTMz7KsrmsAWqUMJYxzrpTxuKe0tBYY45wFQkhKaNs0DljnjJTWWoQwTpKEUgogdEZDjDAAWgrR1cYYSqkQDWOe1hpCZK1FCJVFIVXHOYuiaDHLJwenh/v14an/9XerNEkhEqvFjWiqw52DWqhhOnz+7PlsPsvaLYKonyZayWyzIQnhqJciAq3oBkmqTHe3Xs69JY/CTZYRCq3GAUqyqT7884c+Syj2VWcwIWVeyk7oTn737Ju7u5kUOs+KpqyKvIAY/c3/7p//4s//zGpdl8VwMOiP+1le3N7N9o+O/t//n38rhN5uC0YYpbSsqtl01u9Fvu9DiBBC1trrmxsIoXNuNpsxyjCmlPlSbTbb/D0xy4g4Ojqqmo77gTa2KBsAAYJ11wpCSJYVnAdKKc/ztLbOuYjEXdc4Z6UUwDmCKCFEKgEAxBhLJUIWdV0HEUIYC9Exzlsh2qZyRolOQogZY4xSjAnnvG3b9xg1QEAI4XneYrE+OvmEoOCrZ//gILy7m/UGASFR1pSLVY5pvHr9sj9Kx0d9v+bj0dBqM5/Nru+uSbfdirrqj3tCKi8IKGIEeTYFpqWWst39XrYohQgfnn2yO9l11mnbceYZpTarLUbu3eXFYr4o8ryu2q6V2+22KMv/+u/+mw8eP7TArDYLgiGkrm5LyvH5/Xvj3V2Iyf/2f/9/daoLCFFKeYwyRncmk+FgaK2t6mK1WgEAijyXSu1MJp3WCiKpjbY2K8q2aYWSCOFvv/tusrsTJ0kjJON8uVq1TQMcbJqWcx9CIKWCEFLq5XnOOc3zglDsHMCIOOMAAJ7Hu65ljGICu65LeaC1Vl0HMNJGv++sRxhJpbTqgiAilAZ+4ByUUnoex9jTRhGCIARKqro0XSel3mLKo3jPodry+OjRvcK+vltsyiZbWy/pBUqS+q4dD4f9ycgZS6TcxJHPMAyDdLPO/SCOvbhWTkvp+1w7Cx08Ozz/4pMfDQZDqwEjFFggtE7T3sW7t1dX10oZABEAUGlVFiXG+OGjh0fHx998/UejxcMH9/JigxCMk962zl+/uUqSpNfrt83MWeuFvjO66bowiaVSWZ4XRZkkSVmWVVNTyq5vb8umuZ0vgHPGujBKpNTIOKU0cO7q8gZR7AeBUkpboxGKo8jzOEI4z7IgCI3WHkdd2ykpIYSE0K7rrNXYQUKpsbo/GNR1NRqNHADGAkwoQEhq3TYdIRRD2Nalx30cUACgta5tO4gQxsgYU9UVYxhCUlU1YqZubW/Ys0lcl/j+2f3ff/nvtkBjUigEcIjiKMVcYt/Yzvd9TxnVSDGZTMjOE2S6qN7gy9eznXEaE6rgcBDeezn7PfDau9tuRM9s7aV+H4GgaUvgGefsOs+cc4WQhbSroirLCjh3tVws63J3d09J/c3X36zX64eP7pdtW5YFbrtbefnV19/fzjdxOkqDpEukFJVUgns87qVh2nfUq6SMe2nbdXlVDsfjoiiSNGWB78VB24qrq+uDgwOEyHQ6W2+3/ST2fc8BAI1B1gKpaBw3nSAIB5zbwCcEibZbFxU0CmHmc+75gVSqbVuLIPV93XXKYeLFBnqEUghcVVVBEGDqRJYRjB1Azvph4GOMpJSUMM/zjBFKi6aVEFprIYTIWiOwa1FwV75YV9P8etc0b4gY3H/4ye+e/UpCYDHzeBhFBrmGWz8ifm/ka6AgRmQzRaYz4/Tk4KOzrtm8e3V9dvp4fbnAAjdNJUGEoBzu9oXC2TZzzhJC21ZEUTSbzZbLVVU1VdnUdUMp1doopZ88ebJaLTyP93oDQhnBaLXcuEYigE/O7o/3JaHeR5989B//499/+Yep51GEYL/f9zxOCPa80Ke0LEtjzGaziaLIObe4Wqaj0WDAqqp5/erN3t7+dpsBZ/Ki6oRijDPGyrIaDAYI4aosAz/opLQWSKksAEJLPwiapulFA6kkQogQ8p50gxAaYzjnZVlSSgmjjLGyLH3fD4IAQqSUSNOQUiqEQBhYK+tGQOics+/zNOesMcTzPIL1YvEtTDOO2d4kiAOc8jgv1v1+UorSAVhmq4EXeNy5iHMPI2yaMrubTsntu3Z/fEghRc7m6222Uht/PTlgTS76SV8I2uTGQAwIzbLtzs6OEKIoiiTubbfb2XRWFmXTtF0rgYMe93tpP4qi5XL5k5/8OElijBFjdDzeW92s4yhBBA4o6rT0PPaTn3w6n02dA8aoPN8iBNJ+km02uhPvuad+vw8h3G63YRSLTloDRsMJgmQ+X45Gk9ls6oCoW0Go1wrpBaEFEAIUJymwzkGknbPa1HX1PrBz3zfWdkJYZ42zzrmmaSil1loAQK/XC4KgFR3GGGNMCMEYz+fz2ex2Mu5HOFa6fU/LQAggRAAAYwzGGCEopUAIYuUozuez1XCcDgbjLqtDhjNZNW0NnGKEf3R+rupbXTUvL19R7vb2U4B0FGLU640p041YXN09Uzab7LI8W2Kdn+/3PnxwujdKJuP4w4/O54vroigopVLKqqqePXs2n8/zPF+tNlIqAIAQUkr1vlj99NNPDg4OtDYAoO22XC/zolHKwaQ/9KPI85iz8vho96c//Umeb8uyqOsqjAIp2jzPMMbb7fY9A75er58/f357c2ute/79i7u7uyhKPO573GfMh5gFYRpEqVTOD2KIGGUe94O03wcAIUIQxpRxY20npXsvekFonWXM8+I4FkJorSGEq9Uqz3PrHGPsve0xxlVVOec8z5NSlmXRtg1CEEIAAADAQmQJRZhA53RdF0J2yPpJQnw6BPLo4k1ZZ3g57dqmpAQxykLup36cBqNqq8KIjUf9OEoJpKHnkyef3F/OVtt8ORqyrjJ57uraIk0JY6++vcCkdzg5Oj88fvHd7OTkA6U0xtj3/bq+Xa9XSpuuE4QQ56AQoqqbvCj7/d7+/t6LFy+sdZ4XzKZzIWQ67IX9hPmcUo8x1NSltebs7HQ0GjRN1e8nnse01uPxyErLGAuCQEr56tWrzWbTH442m3w4GOVF+frVG0JYU3cAYEwYZR73goPDOImTsioN1FJrQpjUmlLeSM09HxNaVAVjjPk8L4u6aSaTCYUoiqL3dUYURQihqqoccEqp9yKU9+ZJkx6lEEKIkAIAOGeNsQ4YYIwxxjng+54feBA6wr3OLoRCX//jzWSMewdnB5PDRfNaI0s4eftmjXS0N+oZ6FuHpKTZxnWNZNyQr19ceYRc3WzzCo56w3eXW9jFL76taaDT4f7e8N6jox96uv/h/d2w1/N9DwBwc3PXvOfW25ZSRilxDlTVdrVcvwdwuq5hjPl+1FQdBBhBKp2ougJATRB0WlllgYOU4MdPPvjVr/7RAhOGAQDOAauV9n3f9/2yLHu9HmcMErbOqiLPISJVXWMkMCEAwLQ3skav1tmg38+KKk1Si3RZFVmeW2MABlLptm08ztI0nS8XLPCn8/lkZ5KV+f5wwhgDAHDOu67DGCsl264zxrxvEXj/DozWGGGEoMVYay2FaNtOytJBTQghhHgep5QCBwyqp8Ufc4FOH56mvc1mc+P5jefZ6/mytzPywvgffvPiFz/7PBgcr2+yq3kZ+Pr7Z7Of/mSXvPluTYg9Ox9Z0719W8wXcnU9Q83o6SfnZ4cfP/3w85P9R/1wjwaBZqIqSwhRvz8w5nXXiU4ogLDSZrla391Nu1Zstpvnz78fDNOq6oIgbpqOUA84yDHyfB5GIbC2KZVQlhJCKB4OBhDCNOkNBsMoCos8V1pqrYyhzOOT3Z3tNgOQdBpy7s0XK2Nc27RFUVrnrFbGGGvtar32PG6tRQwpZZ2D3AuqvCSUBxBTBqUQvu9P7+66rhv0B0VV5nnxXoYOgPM8TylFCGWMWWsZY10nqqoOw9BZKJUGABjtrIOU+YwHmPQsUM46IYWyTrYNIdjv9e99ePLNN690swLErOp5kOphxL2Q395uZwv68PGZxUArVxYVZ14v5UfHURgFJJb+6dkuwk0y2vGAMGU2DMwXX/z4z3/2y3tnH4xHR4xExIu1kappZNNdXt9WtQiC2FgEMAbMZtvyZnrTdW3VlEWRvX77dudgrxO6bcVynd27/3Cys8sVEK2RzDBKCGVSKQNsGPnn9+/98Ic/fPLkwzhOoyhilJdkDaAVUiJKy7Zd53mWVxjxpmm7TiCM67Zo2raqysDzmrYVQiAEZUvbqgySGGJkjOk6iQlpuo4QDIzppHDOMUr3d3Y4IRxi6yAhWBtJKUMIMUyNNQBY56wUklMOHJLCWAelBphgPwo559ZaB4AfeYQRCFBR5k2b5eW8041Q6XYeAFcHkWmbdLg76h8lpag1DwzQZ6eD3Z2waW832TwOwO5uP4zx+GC3qHMyGvY5iTcb8+t/fDbq9wbJ4N/8q7/9weOfHx4cen5EiVdXIsvnEAKlRJYVeVG+fXflAMaYaKWM0V3T5Nusa9s8y7qu++Pvv7x/fp70BpTQe2enaRLLrt3IWooOQbC7M5kcHlprqqqsq3I4HP70pz/d2dnxfd851wlhLYiiaDdJn3373cXFRV031mFrjJSiruvlcl0WZdeJsiw36zUAwDn3/teGEG7LHFHCKOWMQYSstUXROCOM1kEQGGM8z+u6zvO9zTpjjBFCnHPGGACAA45QEkax1sZaYIVu6oZyNhgNOOdCCIgQRpB7HkQo8CPgECF8d3dS1v08X1Kt69lqJx4KLQ2Sg1H/dnrRSRJ4Pe5z42wrFfE85vt9bwigu5uu414AHCOYTrXWq3kZeb2dwdmPPvvsr3/5N/3g/vvz6rpu27YoC6ONsWi13txN53XTrTeZVCbPC+usaDolhBRCdB2CcD5b/vt/95/+7l/+y0F/oKzZrpdSqjgO26YZ9PtxFPu+DyEIAh+MR8aYvb09z/PeXyVwgFKmVFNXzWq1YdSjfT9N+nd3881mvd1uq6osyrLIi6os67rinCOEEEKUUsYYsABIoAjRnL/P0zHGCACttXNOKcUY22zWjHlRlCCEIIQYY2MMhNABWzVVJxWjntYWQBSEYZjEmBKptRcGRmvnXBhHTSsAoFXdAGiTXs84GSfRXk9sttXVVXH8YIQDBoDpOpHGE2C9znWdbsrWeRACzLJ1GccRZVFVdQA58tmfUGNg2Ti+5RGLP7z/o3F6TnFSVuUyWy0Ws812qbU0FjrHtHNS6U6qqm46aYyxXVtvNxuttBISAeAcAAi9eP7y6uJKa0MYdQA4Zz3O/SComzrLszQJPc4pJc6a9577vvtFCCGFoBARTO+mszCI/DCpq2a93dZ1jTEGAHSdaJpmPp9XZcE5xxi/39/fpjUaIuA0cBgTjIRQwBrMiOd5QgjnXFmW/X7fWielYoxVVZWmiXPQWkcZDaKoyEprkbUgDCOCaZTEUgvkHMJYKmWtlVoRxjohpVKUEaX0Jtt6HrLF+u5mvX/v8SQdfn/xlQJaan+RVZzppJder6Z5thntpE0jBn4KMIy8aLERQeSTXpgikmSb6356cP/8ZNzbFxW0flfX5Ww2y/PMOcRZsMmKsqmdBXlRllVNub/cLqwx2WZb5Pl75yWIQAggIULJZ998SxkFEPihn6RxXVUYY6UUIeS9EkKKDmOktVZKOefel6YYoWdffiOldADFaW+53hRF6awLw3Cz2TZNU1XVbDprmtZY+x4sM8YwxnzfZ4x5jGktEXRGS0Z9QDFC6P0IxPePIM/zJEkQRNY452AQhEoaY7RzQFtLfCq01g72e4M47VPK2q4RWmBMgFZCiqZtO9GFcQwhhgQShmbLu9VmoW17fgBPHt67vpvf/6inpE4GvcBP6kVbFA2NIAdgvL+nnBju7chKBoFHOH96uDudT8n/9/9WffGT+//6f/9v3r672tvtHeyNwzDQTnJOH33wCGEimrbr5GK1upnNvvnm26Jqmk5JaY2xZVGuV+u2aZQQGCCICSXUQgQBnt5OkzgiDA8nA99nW7nFhPgehwBut1sIgRQdpdhaoLWG0GFM2rb9zT/9ptzknu+PJ3vX1zdSGwhhFMVCKGctxliIrigLCCBnzFqjtbbWaq2tMVppytxw2KeMlWWplEQQdV0rlfZ9X3TCGFPXtVLK9wIIiJIKANB13XvvcR0wLQAQDYYjj/sQ4apqEIVCCAjVeDyWSjXrddM0ZVOenJ1qZVpZzRZ3DnY3dxf7J2kQaUXE9eJivO/3eyzxdyBjSRq9unzuWkkMFNLM86UfIGX0gKVv3r10AJBqy/74T8vPvjh6cv7njx5+lIxGAFICUN8PCePO2BzkylRxrxe3NUTAau1RulzMLAR13UKgjFFSKcY1Jr6DiDMa4JhQuFwtMYVls1WqHY72A8+rOV2v12W+NcYghGUnDVgDQAM+tkBeXl5Mb9f5dhPF8XS5mc3miBDGGKGsKIvlZlnVVV3XBGMAoDUOIkgJgA5R6lvoWlcCSxbLGed+GEVN2zhn6rp2GNSy0koHQaidbqVAlLRF5fu+dU4rLaRklGmr67zxA98qSTwPAQ2dkq3uGhmEUVMJRn3PD4xV2tTT2wtCfCGr9frKAQktePnyZn8v/fDxh3V9EyWAAZdvr2QRPn9tT05H4+Fiu9yO9oZhnGMY5GW5yQ2iCEBIeiM1SNNh+OgXP/5bP/ExizHyrdHW2raVhGADIfF4QOEB3vvFz3/2+3/6w+104azOqqJtZBRgY7w8rywtgYkcxARb4AyGiHI6GvWU6t6+ec1osLezo6V88fx7QkiaphAS1YFSfaUEceIY4vr27mK9cCwA2POLoqi7tixLCGHSS+uurbumbus831qtjLEAMcYJxopjjmnYgVrAYtzfb4quUx1ooNZayk5qIY3yg8AgK4HUyC6ztdCSWlLVUkqtlNbaetxTUligiMe7Mrdd835sgXbQaDu/m/lhTBl2yFqohCzz7TKN97Qtu25dFFngjZutN21b0rz60Q8/mM3fiKrhEdyoYl5Et7/JnjxNA8nGk/676RW1/nYtD+8PIEVSVGR/f2/Q2//Rn/wwSWODjDFGis5ZbYx5j83mWcY5p5ggjAeDwZ/92Z/97g9fv7m6llJZa7OqEMqenJzONs+sdYRhgl1bC+6FbdO0Le/1Y2P1y5cvCaGnp6fvyx9jdNdqDHkhVk0NgGQWFPP5vKm4Z1BVlkKIqqq01kmS5FkmtOq6TikphBBSIogQAtYaZYXTsBf243TI0pAYJGphjEHIWqcxJhwiAKHRWkrNuT8ZT5aLVdd0PuLvBfFSaq1tWZTWakJhFEVKqbZt8zxv2xZRhD1eVW2U9Din2gk/olWVi8ZQ3GBqMMIAQKUUAWhdN8WrEjOmTN2qcnIwZIF99MHp8m725VcXn3366d1sISRUAjaN/PbZK0DN+fku4Yw/uP8gCqOmaeJ+bJwTohNdizEWQqRpmiQJY0wZxSQTVWeMuf/g/tvr6+lvfvM+uLWt4FyfnZ08/y5DhBpjfd9LkqSuy+VytVzNTk6OhWh+9atfrVarx48fp2kqpXQWMRJ0pnOWQwCqqmKcbddCaIkQ0lojhAAAztpOik5J0XVKaQAAxogQZh1EGHqU55tK6Bkp4VGUtmXX76dRHOZ5sVjOMfIgJAIKTIjv+0opSjmlVEndOSeFpJRDiCDEbdtSSiilRVHY93OLKbXWaiAhlpSBpt3WrTNAVC2oirwX71prB2mKyKBuKtlKJzFlnobm9eWKMrgtZaW7vUNtmtmjh/uIzf7df/jHex/sBr0g8Adp0jpuEGt9H///ALmPGNjFCIU2AAAAAElFTkSuQmCC\n",
                "text/plain": "<PIL.Image.Image image mode=RGB size=128x72 at 0x7F1B63BFB950>"
              }
            ],
            "_view_module": "@jupyter-widgets/output",
            "_model_module_version": "1.0.0",
            "_view_count": null,
            "_view_module_version": "1.0.0",
            "layout": "IPY_MODEL_7a99117bf8c5463893d5013e5ef18c25",
            "_model_module": "@jupyter-widgets/output"
          }
        },
        "7a99117bf8c5463893d5013e5ef18c25": {
          "model_module": "@jupyter-widgets/base",
          "model_name": "LayoutModel",
          "state": {
            "_view_name": "LayoutView",
            "grid_template_rows": null,
            "right": null,
            "justify_content": null,
            "_view_module": "@jupyter-widgets/base",
            "overflow": null,
            "_model_module_version": "1.2.0",
            "_view_count": null,
            "flex_flow": null,
            "width": null,
            "min_width": null,
            "border": null,
            "align_items": null,
            "bottom": null,
            "_model_module": "@jupyter-widgets/base",
            "top": null,
            "grid_column": null,
            "overflow_y": null,
            "overflow_x": null,
            "grid_auto_flow": null,
            "grid_area": null,
            "grid_template_columns": null,
            "flex": null,
            "_model_name": "LayoutModel",
            "justify_items": null,
            "grid_row": null,
            "max_height": null,
            "align_content": null,
            "visibility": null,
            "align_self": null,
            "height": null,
            "min_height": null,
            "padding": null,
            "grid_auto_rows": null,
            "grid_gap": null,
            "max_width": null,
            "order": null,
            "_view_module_version": "1.2.0",
            "grid_template_areas": null,
            "object_position": null,
            "object_fit": null,
            "grid_auto_columns": null,
            "margin": null,
            "display": null,
            "left": null
          }
        },
        "69a0c0b2c94e4c1a809a8a0a008942c5": {
          "model_module": "@jupyter-widgets/controls",
          "model_name": "VBoxModel",
          "state": {
            "_view_name": "VBoxView",
            "_dom_classes": [],
            "_model_name": "VBoxModel",
            "_view_module": "@jupyter-widgets/controls",
            "_model_module_version": "1.5.0",
            "_view_count": null,
            "_view_module_version": "1.5.0",
            "box_style": "",
            "layout": "IPY_MODEL_64620e78a8594f2c9fa5d294f3636592",
            "_model_module": "@jupyter-widgets/controls",
            "children": [
              "IPY_MODEL_f0dbc2d5275d45e0a5064867426036bd",
              "IPY_MODEL_00c851edddd746909a3d4aef2de3a259",
              "IPY_MODEL_93266b5f4e0744cc93ce71b4796fc19a",
              "IPY_MODEL_bffb863971bf4cbea94978e500e4c46e",
              "IPY_MODEL_57f6632ee8f947089b89f563f86a9a36"
            ]
          }
        },
        "64620e78a8594f2c9fa5d294f3636592": {
          "model_module": "@jupyter-widgets/base",
          "model_name": "LayoutModel",
          "state": {
            "_view_name": "LayoutView",
            "grid_template_rows": null,
            "right": null,
            "justify_content": null,
            "_view_module": "@jupyter-widgets/base",
            "overflow": null,
            "_model_module_version": "1.2.0",
            "_view_count": null,
            "flex_flow": null,
            "width": null,
            "min_width": null,
            "border": null,
            "align_items": null,
            "bottom": null,
            "_model_module": "@jupyter-widgets/base",
            "top": null,
            "grid_column": null,
            "overflow_y": null,
            "overflow_x": null,
            "grid_auto_flow": null,
            "grid_area": null,
            "grid_template_columns": null,
            "flex": null,
            "_model_name": "LayoutModel",
            "justify_items": null,
            "grid_row": null,
            "max_height": null,
            "align_content": null,
            "visibility": null,
            "align_self": null,
            "height": null,
            "min_height": null,
            "padding": null,
            "grid_auto_rows": null,
            "grid_gap": null,
            "max_width": null,
            "order": null,
            "_view_module_version": "1.2.0",
            "grid_template_areas": null,
            "object_position": null,
            "object_fit": null,
            "grid_auto_columns": null,
            "margin": null,
            "display": null,
            "left": null
          }
        },
        "f0dbc2d5275d45e0a5064867426036bd": {
          "model_module": "@jupyter-widgets/controls",
          "model_name": "LabelModel",
          "state": {
            "_view_name": "LabelView",
            "style": "IPY_MODEL_867495cbb6ff422d9f15580736e24f94",
            "_dom_classes": [],
            "description": "",
            "_model_name": "LabelModel",
            "placeholder": "​",
            "_view_module": "@jupyter-widgets/controls",
            "_model_module_version": "1.5.0",
            "value": "Select your alpaka or sheep image!",
            "_view_count": null,
            "_view_module_version": "1.5.0",
            "description_tooltip": null,
            "_model_module": "@jupyter-widgets/controls",
            "layout": "IPY_MODEL_b2d9aaf91d9a4763ad5e437443eedf35"
          }
        },
        "867495cbb6ff422d9f15580736e24f94": {
          "model_module": "@jupyter-widgets/controls",
          "model_name": "DescriptionStyleModel",
          "state": {
            "_view_name": "StyleView",
            "_model_name": "DescriptionStyleModel",
            "description_width": "",
            "_view_module": "@jupyter-widgets/base",
            "_model_module_version": "1.5.0",
            "_view_count": null,
            "_view_module_version": "1.2.0",
            "_model_module": "@jupyter-widgets/controls"
          }
        },
        "b2d9aaf91d9a4763ad5e437443eedf35": {
          "model_module": "@jupyter-widgets/base",
          "model_name": "LayoutModel",
          "state": {
            "_view_name": "LayoutView",
            "grid_template_rows": null,
            "right": null,
            "justify_content": null,
            "_view_module": "@jupyter-widgets/base",
            "overflow": null,
            "_model_module_version": "1.2.0",
            "_view_count": null,
            "flex_flow": null,
            "width": null,
            "min_width": null,
            "border": null,
            "align_items": null,
            "bottom": null,
            "_model_module": "@jupyter-widgets/base",
            "top": null,
            "grid_column": null,
            "overflow_y": null,
            "overflow_x": null,
            "grid_auto_flow": null,
            "grid_area": null,
            "grid_template_columns": null,
            "flex": null,
            "_model_name": "LayoutModel",
            "justify_items": null,
            "grid_row": null,
            "max_height": null,
            "align_content": null,
            "visibility": null,
            "align_self": null,
            "height": null,
            "min_height": null,
            "padding": null,
            "grid_auto_rows": null,
            "grid_gap": null,
            "max_width": null,
            "order": null,
            "_view_module_version": "1.2.0",
            "grid_template_areas": null,
            "object_position": null,
            "object_fit": null,
            "grid_auto_columns": null,
            "margin": null,
            "display": null,
            "left": null
          }
        }
      }
    }
  },
  "cells": [
    {
      "cell_type": "markdown",
      "metadata": {
        "id": "view-in-github",
        "colab_type": "text"
      },
      "source": [
        "<a href=\"https://colab.research.google.com/github/harbenml/alpaka-detector/blob/main/alpaka_app.ipynb\" target=\"_parent\"><img src=\"https://colab.research.google.com/assets/colab-badge.svg\" alt=\"Open In Colab\"/></a>"
      ]
    },
    {
      "cell_type": "code",
      "metadata": {
        "id": "2ZRlmPfZGTtQ",
        "colab": {
          "base_uri": "https://localhost:8080/"
        },
        "outputId": "430caddd-90f8-4fbc-deac-e84974066c24"
      },
      "source": [
        "!pip install -Uqq fastbook"
      ],
      "execution_count": 1,
      "outputs": [
        {
          "output_type": "stream",
          "text": [
            "\u001b[K     |████████████████████████████████| 727kB 9.4MB/s \n",
            "\u001b[K     |████████████████████████████████| 1.2MB 19.2MB/s \n",
            "\u001b[K     |████████████████████████████████| 194kB 47.6MB/s \n",
            "\u001b[K     |████████████████████████████████| 51kB 5.2MB/s \n",
            "\u001b[K     |████████████████████████████████| 776.8MB 26kB/s \n",
            "\u001b[K     |████████████████████████████████| 61kB 5.3MB/s \n",
            "\u001b[K     |████████████████████████████████| 12.8MB 69kB/s \n",
            "\u001b[K     |████████████████████████████████| 51kB 4.4MB/s \n",
            "\u001b[31mERROR: torchtext 0.9.0 has requirement torch==1.8.0, but you'll have torch 1.7.1 which is incompatible.\u001b[0m\n",
            "\u001b[?25h"
          ],
          "name": "stdout"
        }
      ]
    },
    {
      "cell_type": "code",
      "metadata": {
        "colab": {
          "base_uri": "https://localhost:8080/",
          "height": 1000
        },
        "id": "W-n-ZalsDPT7",
        "outputId": "f523edc0-aa99-4b25-ab60-04841ef6eced"
      },
      "source": [
        "!pip install voila\n",
        "!jupyter serverextension enable --sys-prefix voila"
      ],
      "execution_count": 2,
      "outputs": [
        {
          "output_type": "stream",
          "text": [
            "Collecting voila\n",
            "\u001b[?25l  Downloading https://files.pythonhosted.org/packages/45/a4/4c79fec6bd6585cba34892824e057273b9256936eb5f85421bc4bd4da616/voila-0.2.7-py3-none-any.whl (2.5MB)\n",
            "\u001b[K     |████████████████████████████████| 2.5MB 12.5MB/s \n",
            "\u001b[?25hCollecting jupyter-server<2.0.0,>=0.3.0\n",
            "\u001b[?25l  Downloading https://files.pythonhosted.org/packages/ec/b7/f8964ca33e61c6fa8f4e494e4940fb6de021f5caa52c2dce32316fac8611/jupyter_server-1.4.1-py3-none-any.whl (241kB)\n",
            "\u001b[K     |████████████████████████████████| 245kB 40.7MB/s \n",
            "\u001b[?25hRequirement already satisfied: nbclient<0.6,>=0.4.0 in /usr/local/lib/python3.7/dist-packages (from voila) (0.5.3)\n",
            "Collecting nbconvert<7,>=6.0.0\n",
            "\u001b[?25l  Downloading https://files.pythonhosted.org/packages/13/2f/acbe7006548f3914456ee47f97a2033b1b2f3daf921b12ac94105d87c163/nbconvert-6.0.7-py3-none-any.whl (552kB)\n",
            "\u001b[K     |████████████████████████████████| 552kB 52.3MB/s \n",
            "\u001b[?25hCollecting jupyter-client<7,>=6.1.3\n",
            "\u001b[?25l  Downloading https://files.pythonhosted.org/packages/77/e8/c3cf72a32a697256608d5fa96360c431adec6e1c6709ba7f13f99ff5ee04/jupyter_client-6.1.12-py3-none-any.whl (112kB)\n",
            "\u001b[K     |████████████████████████████████| 122kB 29.2MB/s \n",
            "\u001b[?25hRequirement already satisfied: Send2Trash in /usr/local/lib/python3.7/dist-packages (from jupyter-server<2.0.0,>=0.3.0->voila) (1.5.0)\n",
            "Requirement already satisfied: terminado>=0.8.3 in /usr/local/lib/python3.7/dist-packages (from jupyter-server<2.0.0,>=0.3.0->voila) (0.9.2)\n",
            "Requirement already satisfied: jupyter-core>=4.4.0 in /usr/local/lib/python3.7/dist-packages (from jupyter-server<2.0.0,>=0.3.0->voila) (4.7.1)\n",
            "Requirement already satisfied: ipython-genutils in /usr/local/lib/python3.7/dist-packages (from jupyter-server<2.0.0,>=0.3.0->voila) (0.2.0)\n",
            "Requirement already satisfied: jinja2 in /usr/local/lib/python3.7/dist-packages (from jupyter-server<2.0.0,>=0.3.0->voila) (2.11.3)\n",
            "Requirement already satisfied: prometheus-client in /usr/local/lib/python3.7/dist-packages (from jupyter-server<2.0.0,>=0.3.0->voila) (0.9.0)\n",
            "Requirement already satisfied: pyzmq>=17 in /usr/local/lib/python3.7/dist-packages (from jupyter-server<2.0.0,>=0.3.0->voila) (22.0.3)\n",
            "Collecting tornado>=6.1.0\n",
            "\u001b[?25l  Downloading https://files.pythonhosted.org/packages/91/a8/9c5902233fa3c2e6a889cbd164333ddda5009669f494e3fadbeee2c03af5/tornado-6.1-cp37-cp37m-manylinux2010_x86_64.whl (428kB)\n",
            "\u001b[K     |████████████████████████████████| 430kB 62.8MB/s \n",
            "\u001b[?25hRequirement already satisfied: nbformat in /usr/local/lib/python3.7/dist-packages (from jupyter-server<2.0.0,>=0.3.0->voila) (5.1.2)\n",
            "Collecting anyio>=2.0.2\n",
            "\u001b[?25l  Downloading https://files.pythonhosted.org/packages/49/c3/b83a3c02c7d6f66932e9a72621d7f207cbfd2bd72b4c8931567ee386fb55/anyio-2.2.0-py3-none-any.whl (65kB)\n",
            "\u001b[K     |████████████████████████████████| 71kB 6.8MB/s \n",
            "\u001b[?25hRequirement already satisfied: traitlets>=4.2.1 in /usr/local/lib/python3.7/dist-packages (from jupyter-server<2.0.0,>=0.3.0->voila) (5.0.5)\n",
            "Requirement already satisfied: nest-asyncio in /usr/local/lib/python3.7/dist-packages (from nbclient<0.6,>=0.4.0->voila) (1.5.1)\n",
            "Requirement already satisfied: async-generator in /usr/local/lib/python3.7/dist-packages (from nbclient<0.6,>=0.4.0->voila) (1.10)\n",
            "Requirement already satisfied: mistune<2,>=0.8.1 in /usr/local/lib/python3.7/dist-packages (from nbconvert<7,>=6.0.0->voila) (0.8.4)\n",
            "Requirement already satisfied: jupyterlab-pygments in /usr/local/lib/python3.7/dist-packages (from nbconvert<7,>=6.0.0->voila) (0.1.2)\n",
            "Requirement already satisfied: pygments>=2.4.1 in /usr/local/lib/python3.7/dist-packages (from nbconvert<7,>=6.0.0->voila) (2.6.1)\n",
            "Requirement already satisfied: defusedxml in /usr/local/lib/python3.7/dist-packages (from nbconvert<7,>=6.0.0->voila) (0.7.0)\n",
            "Requirement already satisfied: testpath in /usr/local/lib/python3.7/dist-packages (from nbconvert<7,>=6.0.0->voila) (0.4.4)\n",
            "Requirement already satisfied: bleach in /usr/local/lib/python3.7/dist-packages (from nbconvert<7,>=6.0.0->voila) (3.3.0)\n",
            "Requirement already satisfied: pandocfilters>=1.4.1 in /usr/local/lib/python3.7/dist-packages (from nbconvert<7,>=6.0.0->voila) (1.4.3)\n",
            "Requirement already satisfied: entrypoints>=0.2.2 in /usr/local/lib/python3.7/dist-packages (from nbconvert<7,>=6.0.0->voila) (0.3)\n",
            "Requirement already satisfied: python-dateutil>=2.1 in /usr/local/lib/python3.7/dist-packages (from jupyter-client<7,>=6.1.3->voila) (2.8.1)\n",
            "Requirement already satisfied: ptyprocess; os_name != \"nt\" in /usr/local/lib/python3.7/dist-packages (from terminado>=0.8.3->jupyter-server<2.0.0,>=0.3.0->voila) (0.7.0)\n",
            "Requirement already satisfied: MarkupSafe>=0.23 in /usr/local/lib/python3.7/dist-packages (from jinja2->jupyter-server<2.0.0,>=0.3.0->voila) (1.1.1)\n",
            "Requirement already satisfied: jsonschema!=2.5.0,>=2.4 in /usr/local/lib/python3.7/dist-packages (from nbformat->jupyter-server<2.0.0,>=0.3.0->voila) (2.6.0)\n",
            "Collecting sniffio>=1.1\n",
            "  Downloading https://files.pythonhosted.org/packages/52/b0/7b2e028b63d092804b6794595871f936aafa5e9322dcaaad50ebf67445b3/sniffio-1.2.0-py3-none-any.whl\n",
            "Requirement already satisfied: typing-extensions; python_version < \"3.8\" in /usr/local/lib/python3.7/dist-packages (from anyio>=2.0.2->jupyter-server<2.0.0,>=0.3.0->voila) (3.7.4.3)\n",
            "Requirement already satisfied: idna>=2.8 in /usr/local/lib/python3.7/dist-packages (from anyio>=2.0.2->jupyter-server<2.0.0,>=0.3.0->voila) (2.10)\n",
            "Requirement already satisfied: packaging in /usr/local/lib/python3.7/dist-packages (from bleach->nbconvert<7,>=6.0.0->voila) (20.9)\n",
            "Requirement already satisfied: webencodings in /usr/local/lib/python3.7/dist-packages (from bleach->nbconvert<7,>=6.0.0->voila) (0.5.1)\n",
            "Requirement already satisfied: six>=1.9.0 in /usr/local/lib/python3.7/dist-packages (from bleach->nbconvert<7,>=6.0.0->voila) (1.15.0)\n",
            "Requirement already satisfied: pyparsing>=2.0.2 in /usr/local/lib/python3.7/dist-packages (from packaging->bleach->nbconvert<7,>=6.0.0->voila) (2.4.7)\n",
            "\u001b[31mERROR: nbdev 1.1.13 has requirement nbconvert<6, but you'll have nbconvert 6.0.7 which is incompatible.\u001b[0m\n",
            "\u001b[31mERROR: google-colab 1.0.0 has requirement tornado~=5.1.0; python_version >= \"3.0\", but you'll have tornado 6.1 which is incompatible.\u001b[0m\n",
            "Installing collected packages: tornado, nbconvert, jupyter-client, sniffio, anyio, jupyter-server, voila\n",
            "  Found existing installation: tornado 5.1.1\n",
            "    Uninstalling tornado-5.1.1:\n",
            "      Successfully uninstalled tornado-5.1.1\n",
            "  Found existing installation: nbconvert 5.6.1\n",
            "    Uninstalling nbconvert-5.6.1:\n",
            "      Successfully uninstalled nbconvert-5.6.1\n",
            "  Found existing installation: jupyter-client 5.3.5\n",
            "    Uninstalling jupyter-client-5.3.5:\n",
            "      Successfully uninstalled jupyter-client-5.3.5\n",
            "Successfully installed anyio-2.2.0 jupyter-client-6.1.12 jupyter-server-1.4.1 nbconvert-6.0.7 sniffio-1.2.0 tornado-6.1 voila-0.2.7\n"
          ],
          "name": "stdout"
        },
        {
          "output_type": "display_data",
          "data": {
            "application/vnd.colab-display-data+json": {
              "pip_warning": {
                "packages": [
                  "jupyter_client",
                  "tornado"
                ]
              }
            }
          },
          "metadata": {
            "tags": []
          }
        },
        {
          "output_type": "stream",
          "text": [
            "Enabling: voila\n",
            "- Writing config: /usr/etc/jupyter\n",
            "    - Validating...\n",
            "Error loading server extension voila\n",
            "     \u001b[31m X\u001b[0m is voila importable?\n"
          ],
          "name": "stdout"
        }
      ]
    },
    {
      "cell_type": "code",
      "metadata": {
        "colab": {
          "base_uri": "https://localhost:8080/"
        },
        "id": "3O4h_G0fDXUF",
        "outputId": "7a53c407-94a1-48ad-9d57-8013c41dbcb5"
      },
      "source": [
        "import os \n",
        "import sys\n",
        "import subprocess\n",
        "\n",
        "REPO_LOCATION = 'https://github.com/harbenml/alpaka-detector.git'\n",
        "REPO_NAME = 'alpaka-detector'\n",
        "REPO_BRANCH = 'master'\n",
        "\n",
        "# Clone the repository\n",
        "print('cloning the repository')\n",
        "subprocess.call(['git', 'clone', REPO_LOCATION])"
      ],
      "execution_count": 1,
      "outputs": [
        {
          "output_type": "stream",
          "text": [
            "cloning the repository\n"
          ],
          "name": "stdout"
        },
        {
          "output_type": "execute_result",
          "data": {
            "text/plain": [
              "0"
            ]
          },
          "metadata": {
            "tags": []
          },
          "execution_count": 1
        }
      ]
    },
    {
      "cell_type": "code",
      "metadata": {
        "colab": {
          "base_uri": "https://localhost:8080/"
        },
        "id": "r0Sqm-rcEQw_",
        "outputId": "f66cd68f-612a-4086-9232-0f107f600036"
      },
      "source": [
        "# Setting env variables\n",
        "print('set path to repository')\n",
        "sys.path.append(REPO_NAME)\n",
        "\n",
        "# Change folder and create data folder where the MNIST data will be downloaded\n",
        "%cd alpaka-detector/"
      ],
      "execution_count": 7,
      "outputs": [
        {
          "output_type": "stream",
          "text": [
            "set path to repository\n",
            "/content/alpaka-detector\n"
          ],
          "name": "stdout"
        }
      ]
    },
    {
      "cell_type": "code",
      "metadata": {
        "colab": {
          "base_uri": "https://localhost:8080/"
        },
        "id": "veiPP2gbFXTZ",
        "outputId": "0029f87e-b8c6-4dc4-d8a9-66c1d0abff0a"
      },
      "source": [
        "%ls"
      ],
      "execution_count": 4,
      "outputs": [
        {
          "output_type": "stream",
          "text": [
            "\u001b[0m\u001b[01;34malpaka-detector\u001b[0m/  \u001b[01;34msample_data\u001b[0m/\n"
          ],
          "name": "stdout"
        }
      ]
    },
    {
      "cell_type": "code",
      "metadata": {
        "id": "jv4ntlPpFLO7"
      },
      "source": [
        "from fastbook import *\n",
        "from fastai.vision.widgets import *"
      ],
      "execution_count": 5,
      "outputs": []
    },
    {
      "cell_type": "code",
      "metadata": {
        "id": "FUDRRG0LFVFM",
        "colab": {
          "base_uri": "https://localhost:8080/"
        },
        "outputId": "b5e3b7b9-7d7b-4efb-db72-52f018797608"
      },
      "source": [
        "path = Path()\n",
        "path.ls(file_exts='.pkl')"
      ],
      "execution_count": 8,
      "outputs": [
        {
          "output_type": "execute_result",
          "data": {
            "text/plain": [
              "(#1) [Path('export.pkl')]"
            ]
          },
          "metadata": {
            "tags": []
          },
          "execution_count": 8
        }
      ]
    },
    {
      "cell_type": "code",
      "metadata": {
        "id": "bOhPpmflHl8c"
      },
      "source": [
        "learn_inf = load_learner(path/'export.pkl')"
      ],
      "execution_count": 9,
      "outputs": []
    },
    {
      "cell_type": "code",
      "metadata": {
        "colab": {
          "base_uri": "https://localhost:8080/"
        },
        "id": "CQdQFBVEHxDc",
        "outputId": "a81c7ab0-f556-4726-92fc-f576876b1713"
      },
      "source": [
        "learn_inf.dls.vocab"
      ],
      "execution_count": 10,
      "outputs": [
        {
          "output_type": "execute_result",
          "data": {
            "text/plain": [
              "['alpaca', 'sheep']"
            ]
          },
          "metadata": {
            "tags": []
          },
          "execution_count": 10
        }
      ]
    },
    {
      "cell_type": "code",
      "metadata": {
        "colab": {
          "base_uri": "https://localhost:8080/",
          "height": 49,
          "referenced_widgets": [
            "00c851edddd746909a3d4aef2de3a259",
            "e8b98abd42ed454eb35d3e597e86008b",
            "4f9560773a1346d2aa3e966265ffc497"
          ]
        },
        "id": "LT6Q-3i9H3ei",
        "outputId": "cd630e58-68ce-4de6-d339-b98addb8185e"
      },
      "source": [
        "btn_upload = widgets.FileUpload()\n",
        "btn_upload"
      ],
      "execution_count": 11,
      "outputs": [
        {
          "output_type": "display_data",
          "data": {
            "application/vnd.jupyter.widget-view+json": {
              "model_id": "00c851edddd746909a3d4aef2de3a259",
              "version_minor": 0,
              "version_major": 2
            },
            "text/plain": [
              "FileUpload(value={}, description='Upload')"
            ]
          },
          "metadata": {
            "tags": []
          }
        }
      ]
    },
    {
      "cell_type": "code",
      "metadata": {
        "colab": {
          "base_uri": "https://localhost:8080/"
        },
        "id": "rrHe6SMKIB4i",
        "outputId": "774188c2-1ab1-49ed-a677-fabb4e669350"
      },
      "source": [
        "btn_upload.data[-1]"
      ],
      "execution_count": 13,
      "outputs": [
        {
          "output_type": "execute_result",
          "data": {
            "text/plain": [
              "b'\\xff\\xd8\\xff\\xe0\\x00\\x10JFIF\\x00\\x01\\x01\\x00\\x00\\x01\\x00\\x01\\x00\\x00\\xff\\xdb\\x00\\x84\\x00\\t\\x06\\x07\\x13\\x12\\x12\\x15\\x13\\x12\\x12\\x15\\x16\\x15\\x15\\x16\\x17\\x15\\x16\\x17\\x15\\x17\\x16\\x15\\x17\\x17\\x18\\x18\\x15\\x16\\x17\\x17\\x17\\x15\\x18\\x18\\x1d( \\x18\\x1a%\\x1b\\x16\\x15!1!%)+...\\x17\\x1f383-7(-.+\\x01\\n\\n\\n\\x0e\\r\\x0e\\x1b\\x10\\x10\\x1a-% %--------------------------------------------------\\xff\\xc0\\x00\\x11\\x08\\x00\\xe0\\x00\\xe0\\x03\\x01\"\\x00\\x02\\x11\\x01\\x03\\x11\\x01\\xff\\xc4\\x00\\x1c\\x00\\x00\\x01\\x05\\x01\\x01\\x01\\x00\\x00\\x00\\x00\\x00\\x00\\x00\\x00\\x00\\x00\\x04\\x01\\x02\\x03\\x05\\x06\\x00\\x07\\x08\\xff\\xc4\\x009\\x10\\x00\\x01\\x03\\x02\\x04\\x04\\x05\\x02\\x04\\x06\\x01\\x05\\x01\\x00\\x00\\x00\\x01\\x00\\x02\\x11\\x03!\\x04\\x121A\\x05\\x06Qa\\x13\"q\\x81\\x91\\xa1\\xf02R\\xb1\\xc1\\x07\\x14B\\xd1\\xe1\\xf1\\xa2\\x153S\\x82\\x92#\\xff\\xc4\\x00\\x19\\x01\\x00\\x03\\x01\\x01\\x01\\x00\\x00\\x00\\x00\\x00\\x00\\x00\\x00\\x00\\x00\\x00\\x01\\x02\\x03\\x00\\x04\\x05\\xff\\xc4\\x00$\\x11\\x00\\x02\\x02\\x02\\x02\\x02\\x02\\x03\\x01\\x01\\x00\\x00\\x00\\x00\\x00\\x00\\x00\\x01\\x02\\x11!1\\x03\\x12\\x04Q\\x13A\"Ba\\xb12\\xff\\xda\\x00\\x0c\\x03\\x01\\x00\\x02\\x11\\x03\\x11\\x00?\\x00\\xdd\\xa6\\xa7\\x10\\xb9z\\xa7\\x9a5$\\'BDACW\\'$\\x85\\x81BBHN\\x85%\\x1aY\\xa5\\x06\\xe9[\\nM\\xbaD)\\x11C\\x08r\\x93\\xd3d< \\xa6\\x9e\\x82\\xe2\\xd6\\xc6\\xc2HO]\\t\\xacQ\\x90\\xb9:\\x17B\\xd6a\\x89S\\xa1r6a\\xa9\\x13\\xa1t-f\\x1b\\x0b\\x93\\xa1t,a\\xb0\\xba\\x13\\xe0h\\x9f\\xe1II\\xf2F\\xea\\xc6\\xe9*\\xba!\\x01rqjHN(\\x90\\x95t.B\\x83b\\x82\\x9c\\x1e\\x98\\x94\\x04:\\xa0\\xf6a\\x10\\x91>\\x17B\\x01\\x19\\t!>\\x17B\\xc6\\x19\\t!>\\x17B\\xc0\\x19\\tZa:\\x13^,\\xb3\\xca\\xa0\\xa7LA\\x8d:I1\\xbbM\\xc7\\xa8\\xdc))\\x91R@\\x80\\xf1\\x12\\x06\\x8e\\x1d`\\xdc\\x1e\\xcb5\\xcc\\xafs\\x18\\xda\\x8c\\x90A\\xd5\\xa6\\x0f\\xf9\\n\\x0e\\x15\\xc7*\\xbd\\xc0\\xbd\\xac\\xec\\xe2\\xec\\x867\\x88\\x9f\\xdbE\\xe3\\xcd\\xcb\\x87\\x95\\xf5=X(\\xf2\\xf1\\xae\\xc6\\xa0\\xb5vU\\x08\\xc5\\xcb\\x84\\xdc\\x1d\\x08\\x83=\\xac\\xadi\\xe1ZD\\x83h\\x95\\xdd\\x0f2\\x12Y\\xd9\\xc7?\\x16Qx\\xd0\\x06E#h\\x18G\\x1a@\\x04\\xd7\\xd5h\\xd1$\\xfc\\xc4\\xb44|F\\x06\\xea\\x10\\xa3\\xf0\\xca7\\xc7\\x07\\xfc\\xa7S \\xec\\x91y\\xa8w\\xe1\\x80\\nk\\x8d#\\xba\\xb2f[Y=\\xd4\\x9avN\\xbc\\xc4\\xc4~#ENU]\\xc4x\\x88g\\x95\\xb7w\\xd1\\xbd\\xcf\\xf6DsO\\x15f\\x1d\\x90\\xcb\\xbd\\xda\\x01x\\xee\\xb2\\xbc?\\x0e\\xfc\\xa5\\xcft9\\xc7Ro{\\x98S\\xf2<\\xdcu\\x86\\xff\\x00\\xc2\\x9e?\\x86\\xaf\\xb4\\xf4Y`\\xf1\\xae\\xf1\\x01-=38\\xc0\\xf6\\x1b\\xadU-7\\xbf\\xdd\\x96G\\x87\\xe1G\\x88\\x08.s\\xb7\\x97:=.HZ\\xc3 E\\x94|8\\xb9I\\xb6W\\xcb\\x92QT\\x0e\\xf1t\\xd8N\\x85\\xd0\\xbd\\x83\\xc9cR\\'.\\x84@5,%K\\x0b\\x18\\xb4\\xad@!\\x0bQ\\x81\\xea74.xI\\xad\\x9d\\x12\\x8a\\xfa\\x07\\x84\\x8aP\\xc5/\\xf2\\xe9\\xdc\\x92\\x15E\\xb0X]\\t\\xe5\\xa9!\\x1b\\x14d.pO\\x85\\xd0\\x89\\x8a\\xdc^\\x0b;K\\\\\\x05\\xfe\\xc2\\xcea9w+\\xc6bd\\xbaH\\x1b{\\x9f\\xac\\xff\\x00\\xbd\\xa8\\x08Lx1\\xe5\\x82N\\x9b]y\\xfe\\\\\\x7fc\\xbb\\xc6\\x97\\xea4\\xe1\\xf343k_q\\xeb\\x1a+*.9@\\xe8\\x10xjyZ3jnA\\xd4v\\xb7Dm\\'\\x03\\xbf\\xbf\\xf7\\xe8\\xb8\\x9b\\xc9\\xd8\\x96\\x0e\\xaa\\xd3n\\xda\\xf7\\x1fwB\\xd5\\x86\\x8b\\x8bL\\x1f\\xa2\\xb0\\x0e\\x8dG`\\x82\\xc649\\x84L\\x1bG\\xfe\\xa4\\x159\\x14\\x81\\x15V6l\\xe2/\\xfeR\\x06\\xdeZ\\xe9\\x08CI\\xf0%\\xc0\\xe8m\\xd0M\\xbe\\xa90T\\xa0\\xdd\\xc4\\x88\\x16\\x8e\\x83\\xec\\xfb\\xa9\\xf6+\\xd5$X\\xd2t\\x8dn\\x89c\\xe3U^\\xd7\\xc4\\x11~\\xa8\\x96T\\x96\\xf5\\x94\\xd1\\x90\\x92\\x89Q\\xc6\\xf8@}F\\xd4\\x02\\xd3\\'O\\xdd\\r\\x88\\xc0\\xb5\\xc3\\xa4lN\\xfd7Zjn\\xb4\\x11*\\xab\\x89S\\xca@\\xcd\\x00\\xe9\\xeb\\xee\\x9f\\xfaO:\\x05\\xe0\\xd8\\x06\\xb5\\xd3\\xa1\\x1b\\x1f\\xbf_\\x95uT\\xa0p\\x14\\xb2\\xb7tQq\\xddz\\x1e$]Y\\xc1\\xe5I]\\x11\\x90\\x92\\x13\\xe1$/D\\xe1\\x1b\\x0b\\xa1:\\x17B\\xc6\\x1b\\x0b\\xa1:\\x17B\\xc6\\n\\x84\\xf6\\x84\\xa55D\\xa2\\xa1\\xc9\\xc2\\xa2\\x8dt!\\xd6\\xc3\\xd8\\xe7\\x14\\xc2\\x13\\xa1rd+\\x19\\x0b\\xa1>\\x17B !y\\x845lK\\x04I\\xd3H\\x12~\\x88\\xba\\xac\\x90\\xb0<\\xc3\\xc4\\x9bM\\xefat\\x19\\xdd\\xc0\\x08\\x8bD\\xaeO-\\xb5\\x1bG_\\x8a\\x93\\x953yI\\xc1\\xe3Y\\x8b\\x8d&\\x11-p\\xcb\\x98M\\xbaE\\xc7\\xef\\xb2\\xf2lW\\x1a\\xafA\\xcd{H\\x91\\xa4\\x19\\x91\\xd0\\x8d\\xc2\\x9f\\x81s\\xadF\\xbf!\\xa6\\xe76\\xa1\\xff\\x00\\xb6\\r\\xc3\\x8f\\xfe>\\x9e\\x8b\\xce\\xb7\\xe8\\xf4:\\xff\\x00OB\\xc7\\xf1\\xfaT\\xc0q\\x1eRr\\xbav?d|\\xa5\\xa9\\x8f\\xa2@u\\xb2\\x97\\x00\\x08\\xeeD\\x15\\x91\\xe3\\xdc+\\x1b\\x89>F\\xe4a\\x00\\x10\\xec\\xb9\\x8c\\xce\\xb1\\xd0+:\\\\\\xac\\xe1DSuC1$\\x8b\\\\\\x0b%\\xa9\\xb1\\xd3\\x82E\\x85n$\\xc8\\x80A\\x92Y\\xaco\\x05IJ\\xbc\\x9b\\x0f(n\\xddO\\xd8^k\\x84\\xe1\\xf8\\xfa\\x92\\xf74\\x083\\x11\\xac\\xf5\\x00\\xf7\\xfdU\\xc5,~*\\x90k*P\\xa9\\x98\\x02NQ!\\xda\\xdf\\xf4\\xb2W\\x19!\\x93\\x8b7T\\xe2 _\\xfc\\xeb*jM\\xf7X\\xec?0=\\xb1\\x9e\\x95VO\\xe6a\\xbf\\xa1\\x1f\\xa2\\xd4\\xf0\\xfcAsA\\xca\\xeb\\xf63\\xef:,\\x9e@\\xd66YRtD\\xdaz\\xeeR\\xe3\\xf0\\xad{n\\x01\\x8b\\xf5\\xf9Cc\\\\\\x03s\\x12\\x04X\\x12z\\xea\\xa6\\xc3\\xe2\\x9b\\x94\\x00sO\\xe4\\x12\\x07\\xa9\\n\\xa9\\xe6\\x99&\\xb1h\\x81\\xad\\x00h\\x9aB\\x99\\xea2\\xbd~\\x1cD\\xf2\\xb9\\xbf\\xe8d$\\x84\\xf8\\\\\\xaddFB\\xe8OI\\x0bY\\x86\\xc2D\\xf8]\\x0b\\x18/\"\\x92\\x9d\\tD\\x80\\x9aL.g6]A\\x03\\xba\\x82i\\xa4\\x8a\\x94\\xd2\\x11Sfp@\\x99WB\\x98\\xae\\x80\\x9b\\xb0\\xbd\\x08r\\xa4\\x851L\\x84S\\x03De\\xab\\xc8\\xff\\x00\\x8a\\xb8\\x18\\xaa\\x0c\\xc9p\\x9e\\x91\\xec\\xbd\\x844,?\\xf1\\x17\\x84\\x977;r^\\xd2ZK\\x87\\xa1\\x95\\x1e\\x7f\\xca%\\xb8?\\x19\\x1eZ\\xdcx\\xa6C^\\xf7\\x16\\xb4\\x00E\\x9c\\x0f\\xa0r\\xd6p^u\\xc3\\xd3}\\x1at\\xe8\\x17\\x87\\xbb+\\xb3@p3\\r-\\xd6\\xf3\\xd6\\x17\\x9f\\xf1\\xbc\\x01k\\x81y\\xcd\\xd6\\x04YT\\xe0\\x8b\\x85F\\xc1\\x82\\x1e\\x08#b\\x08 \\x88\\xf4\\\\\\xca)\\xa3\\xa5\\xc9\\xa6}0\\xee2\\xcc\\xa4\\xcd\\x99\\xafY\\x00\\xda>\\xaaG\\xf1Y0\\x05\\x88\\xd4\\\\@\\x17\\x16\\xd0\\xdf\\xf4X\\xden\\xc5S4)\\xd3\\xa4b\\xa5C\\x9d\\xd6\\xbc\\x1b\\xeb\\xa1\\xf3E\\xf5\\x84O\\x08\\xaeYLgsK\\x9c&3\\x03\\x02-\\x11\\xad\\x84\\xfb$k\\x16:\\xcb\\xa4jpC;\\x81\\xd0\\x82\\xef\\x82E\\xbd,\\xdf\\xfeQx\\x9cvMc\\xcb\\x1a\\xf4$\\x03\\xfa\\xfd\\x10|\"\\xbbO\\xe1 \\xf5\\xbd\\xfe\\xf4G\\xf1\\x1c+\\x1e\\xd81\\'\\xaf\\xac\\xac\\xb4g\\xb2\\xbf\\x8fq\\xd6Q\\x0c~\\\\\\xd31\\x02N\\xdat\\xb2\\xc7c?\\x88\\x8d{\\xfc<\\xa2\\x8fR|\\xce\\x1e\\xcd\\xb0\\xfb\\xb2+\\x9e8m|\\x83\\xc3\\xbbX\\xdb\\x91\\xb5\\x8c[R&\\x04\\xaf u:\\xe5\\xfe\\x0b\\x98\\xd0^\\xe0|\\xed\\x12H\\x91\\x98?R.t?\\xa21\\x85\\xecYJ\\xb4\\x8f\\x7f\\xe1\\xd5(\\xd7c\\t-\\xa8\\xd7~\\x17\\xb6sH\\xb1\\x06I\\xba\\xb2\\xe1-s*\\x16\\x16\\x10\\x1b\\xa1\\xb1k\\x86\\xc4\\x99\\xb1X\\xaeV\\xe5J\\xd8j\\xc1\\x9e#2\\x86\\xe71\\x9c\\x91$\\xe5\\x90H\\x13c~\\xdd\\xd7\\xa3\\xe1\\xf0n\\x17/.\\'Sa\\xf4\\x8d\\x14ZM\\xe0\\xbd\\xd2\\xcb\"\\xc4\\xb6\\tP\\xc27\\x1e.\\n\\x12\\x17\\xad\\xc4\\xee(\\xf2y\\x15I\\x8d\\x84\\x90\\x9f\\x0b\\xa1P\\x9d\\x0c\\x85\\xd0\\x9d\\x0b\\xa1c\\x0c\\x85\\xd0\\x9f\\x0b\\xa1cPe7\\x14\\x8eq]O\\x10\\x92\\xadN\\x8b\\x9e\\x8e\\x8b\\x131J\\xd2\\x98\\xd1)\\xe0&\\xa0Y\\xc56\\x13\\xe1t\"-\\x8c\\\\\\x9e\\x1a\\x9e\\xda\\x04\\xadi\\x02\\x9b \\x85\\x9a\\xe7:\\xc3+Y\\xa9\\xd6\\xdf~\\xab\\\\\\xec1\\x02V\\x07\\x8a\\xbf=W^%\\xd1\\'`7I\\xc9%\\xd4\\xa7\\x1c_c\\xcd\\xb8\\xe6\\x14\\x13\\xe6\\x00\\t\\xfb\\x0b=\\x86\\xe1\\xaes\\xbc\\xac:\\xc1\\'A\\xf2\\xbdK\\x9b\\xf8+\\x19D?\\xc4\\x0eq\\xd1\\x80h=f\\xeb)\\xc3\\xe4\\x01&d\\xde>\\xec\\xb9b\\xf1GT\\x97\\xd8\\xfc\\x06>\\x8e\\x1d\\xc1\\xd8\\x89}\\xc0kF\\x907q\\xddnp5\\xb0U_\\x9b\\xc2\\x80\\xd0\\x0c\\x0b\\x03\\xae\\xab\\xcc\\xcf/U\\xc6Uu:o\\x0262\\x1aH\\xfd\\xf6\\x95\\x7f\\xc3p5\\xa8\\xb1\\xf41\\x14\\xcbNR\\xc2C\\xc0\\x0e\\xbcy\\\\\\xdb\\xef\\xd0%\\x9a\\x1a\\r\\xe8\\xdf\\xd0\\xad\\x87w\\x9f\\x0fT5\\xcd\\xfe\\x92e\\xa4\\xf4\\x9e\\xebOF\\xa0\\xa9M\\xaf\\x8b\\x10$t\\xea=\\x8a\\xf3^^\\xe4\\xba@\\xe7i\\xa9\\x1a\\xc0/->\\xad&\\xeb\\xd0\\xb0\\xb5\\x83\"\\x99?\\x88\\x92\\xd1\\xed%\\x04f;\\x88\\xe0\\xcb\\x98<8\\xcc\\xd1\\x11\\xb1\\x13\\xa4\\xff\\x00u\\x9a\\x1c\\xb9D\\xd5\\x0e}\\x00\\x1c\\x0eh\\x92\\x1b2<\\xc0\\x03\\x07\\xd1l\\xa9\\x8bJ\\x1b\\x8b5\\xcel0\\x80\\xe3\\xb9\\xd8}\\xca\\xcd\\xfd\\x85/\\xa0J\\x18|\\xd8\\xa7\\xb9\\xa7\\xca2\\x87w!\\xb0\\x00=\\x01%h\\xe8\\x0b\\xaa\\xcc\\x0e\\x04\\xb1\\xadh>\\xb3\\xa9\\xeat\\xd5Y\\xd0d\\x1d\\x14\\xe0\\xa9\\x8d7`\\xd8\\xf1\\xfa\\xa0\\xa1Xc\\x82\\x08\\xb5z\\x1c/\\xf189\\x97\\xe42\\x17Bt.\\x85k#C!t\\'\\xc2\\xe8Z\\xcdC!t)\\x03S^\\x10\\xb0\\xf5&\\xc8\\x96\\x11\\x85\\x81E\\xe1\\xa9\\xf7\\xb2\\xbdH!,)2&\\x9b-`\\xa1\\x03\\x12\\x90\\x91\\xd5\\xa1\\x06\\xea\\xae%el\\xd8E\\x8d4\\xfc\\xe4 (\\xe2H\\xd59\\xf8\\xb9C\\xab\\x19I\\x04b\\xb10\\xc7z\\x15\\xe7\\xc41\\xcd\\xa8j\\x137\\x0c\\x03\\xa9[*\\xae$\\x1fE\\x83\\xc6\\x7fSF\\xa1\\xd3u>EH~7l\\xab\\xe2g0\\xcb\\xb6\\x97\\xed\\xaf\\xaa\\xccT\\x9aN\\x1d\\xce\\x97\\x9dU\\xe7\\xf2\\xd5|B\\\\fA\\x00\\x93\\xa7\\xa0\\\\\\xea-k\\xb2\\xfe#\\xbc\\xeaT\"tH3\\x93\\xb1\\xcdc\\xcf\\xf4\\x97\\x02gb\\x7f\\xba\\x87\\x19J\\xa1\\xae\\xd2\\xeb\\x87\\x07\\x9e\\xf3\\x9a\\xe4\\x0e\\x9a|\\x85E\\xc5\\x1bQ\\x9ef\\x1c\\xa6m\\x12a?\\t\\xc318\\x92\\xda\\xef\\xc5\\xb8\\xf8c#C\\x00ih\\xd4\\x8b\\x88\\xbeSs:,\\xc0\\x8fH\\xe5\\xba\\x95\\x1ana\\xad\\xd4\\x9b\\x05x\\xe7\\xf8\\xb5FFyX\\xd3\\xe6\\x88\\x04\\x98\\x98\\xea\\x15\\x07-p\\xe2\\x1c\\rG\\xbe\\xa6]3\\xbb4N\\xf6\\xb4\\xfa-\\xa6\\x04\\xcc\\xe9\\x06\\x00\\xf6\\xea\\x86\\xc3\\xa1\\xedi\\x89=,\\x15n\\x01\\xc7\\xc5~c\\x12b\\x1d\\x1a\\x0fuoX\\x8c\\xd0\\xa3\\xc4\\xe1)\\x91\\xe6h\\xeb1\\xbf\\xaaI/C\\xc5\\xfb\\n\\xa5}E\\xb6\\xdc)ZB\\xaf\\xc0\\xb47\\xca&;\\xcc{#\\x01\\xb7DS\\x16J\\x86W\\x1a\\xa0\\xea\\x10\\x8a\\xc4\\x1b\\x14\\n\\xea\\xe1\\xd1\\xcd\\xca\\xf2)\\x84\\xb9\\x82l.!Z\\x88\\xd8\\xa5\\xc9\\x85\\xe9\\xc2\\x9aG25X$y\\xcak\\xe5sJmG\\xc2 \\t\\xfe`\\xa5\\x15\\x8a\\x84\\x94\\x84\\xadH6\\x11\\xe3(\\xddQE\\x99u\\xd6\\xea\\x0b&\\x94\\xd0\\x9a\\x1c\\x94\\x14(#\\xc0N\\x14\\xd3\\x01O\\x05`\\x9d\\x95`\\xb8\\xa8\\xcbX\\x91\\xa4\\x91\\xf2\\xb7\\x8e\\x06v\\x85\\x8e\\xe6\\xca>sh\\x95>Eq\\x1f\\x8ffv\\xbd@\\xd8\\xf8\\xef\\xaaF\\x10K\\xba\\xff\\x00\\x89P\\xd5\\x06\\xa5\\x85\\x88\\xfb\\x95\\x0e\\x16\\x9c\\x12\\x0b\\x8c\\xc4O\\xea\\xb8\\x9c\\x9a;\\x14SEv \\x99-q\\x91\\xa8\\x8d\\x8f\\xf6\\x84\\xdc(\\xa8\\xc9\\xc9pc\\xec|\\x95x\\xde\\x19\\x98\\xf9n7\\xfb\\xea\\xa5o\\';\\xc4k\\xeb\\x1c\\xac3\\r\\x17t\\x90c\\xd1#m\\x8c\\x95\\x07\\xe0x\\x86$5\\xb6\\x04\\xbb`\\xef0\\x1ai\\xb7\\xb9\\xd9o\\xb8+^\\xdam5?\\x14i\\xae\\xa5\\t\\xc38m\\n\\x00\\x162\\xfaI\\xb9\\xb6\\xf7\\xf4\\xfa\\xab\\n\\x15\\xbc@H\\xb7\\xfaN\\xb1\\xf6+vKU\\xa4\\xb8\\x19\\xd0\\xca*\\xa3\\xbfo\\xd5\\n1-\\r\\x04\\xf5\\x82zz\\xf6\\x98Qx\\xb2H\\xd6\\r\\x88\\xfa!te\\x90\\xa0@6\\xd0\\xfe\\xbb\"\\x1b\\xa2\\x0b\\x08\\x0e\\xae\\x08\\xd0l\\x8cA\"\\x0cF\\x88hSc*e\\x17B\\x1a\\xed\\xea\\xba\\xf8\\xb4rr\\xec\\x90\\x85\\x1b\\x9d\\x0b\\xbcA\\xd5S\\xf1^?N\\x89\\x878+\\x12/\\x1b\\x88\\x01A^\\xb4\\xace>qa\\xaa@\\xd3\\xae\\xca\\xfb\\x86\\xf1FU\\xd0\\xa1\\x1e\\xad\\xe0\\xcd\\xb2\\xcc8&\\xbe\\x12\\x80:\\xae\\xb7T\\xc6\\x1a1\\r\\xea\\xb8\\xe2\\x99\\xd5y\\xb8\\xc6\\xd4:\\x13\\xf2\\xa0\\xa9R\\xb9\\xdc\\xfc\\xadbvg\\xa6\\xff\\x004\\xce\\xa1q\\xc5\\xb3\\xaa\\xc0\\xe0\\x85R/*\\xce\\x9e\\x11\\xe7r\\xa6\\xf9\\x12(\\x95\\x9a\\xaf\\xe6\\x9b\\xd55\\xb8\\xf6~`\\xb3/\\xe1\\xb5\\x0e\\x84\\xa8\\x99\\xc1\\xaa\\r\\xca\\xdf,L\\xe2\\xcd{q\\xcc\\xfc\\xc1GS\\x8b\\xd3o\\xf5\\x0f\\x95\\x91<\\n\\xab\\x8c\\x07\\xb8&\\x1eY\\xab$I=\\xd1\\xf9\"\\x0e\\xb3\\xf4h\\x9f\\xccA\\xce-`\\x98\\x1a\\x88\\xb2\\xab\\xe2\\xf8\\xcf\\x15\\xb9\\xc8\\x8d\\xbe:\"i\\xf2\\xdb|\\x81\\xee\\x96\\xb0i\\xd4\\x9d\\xdc\\xa2\\xe3xqM\\xa1\\xad\\x00\\x0e\\x81J\\\\\\x89\\xe1\\x16\\x8c\\x1a\\xcb1\\xd8\\xd6\\x12|\\xb3;G\\xeeU{\\xb1\\x95\\x1a`\\xb6{\\x83\\x1fB\\xae\\xde\\x01v\\x92>\\x88\\xda\\x1c1\\xaf:\\x1b\\xf4\\xfa\\xc6\\xfd\\x17\\x14\\xd5\\xb3\\xb6\\x0f\\x00xN>\\xcaM\\x87Sw\\xad\\xacT\\xb8\\xfeqe@\\xd8\\x0e\\xcc\\xd0`D\\x1d\\xa2z-/\\xf2\\x00Cr\\xb4\\x00- \\x12-\\xach\\x10\\x1c7\\x94\\xa9\\x1c\\xces\\xb3I\\xb11\\xae\\xdfK\\xa9\\xb8\\xcbC\\xa7\\x1d\\x95\\xbc7\\x9ej\\x06\\xf8n\\xa7 \\x08\\x07p6\\xbfo\\xec\\xae0\\xfc\\xc2\\xdb\\x96\\xb9\\xc7|\\xa1\\xb1\\xaf\\xd9G\\xf0N\\x01E\\xb2\\xe2\\xc1:G\\xeb?UiG\\x03L\\x18k\\x04L\\x0bvYF~\\xc2\\xdc=\\x02\\xe08\\xcb^\\xc2\\x08 \\xec`\\xdeU\\x86\\x1a\\xb9\\xd1\\xad\\xd2\\xd2m=\\xe1)\\xa4\\x01\\xd0B!\\x94\\xb2\\xdc\\\\tN\\xacGD\\xf4*H\\xee\\x89iC\\xb5\\xc2$hT\\xc1U\\x12e\\'9T-\\xc3=\\xc0\\xc1h\\x90uY\\xbeQ\\xc2\\xd6\\xaa\\xd0\\xfa\\xaf\\x99\\xbc\\x0b+\\xde\\x7fy\\x18*\\xb6\\x9b%\\xe5\\x1a1A\\xbe\\x83\\xf4ZRj\\xa8\\x10I\\xb7fg\\x9a8\\xc3\\xb0\\xd5KZdD\\xddy\\xef\\x11\\xe2N\\xae\\xf2\\xe7\\x19\\xd9_s\\xddi\\xc4\\xd4\\x07`\\x02\\xc5S7\\x81\\xb2\\x7f\\x91\\xca\\x14r\\xca56\\xcb:\\x06\\n\\xb5\\xc1\\xf1GR2\\xd7B\\xa7\\xf1\\x00\\x89Cbk\\xcb\\x84(\\xc5\\xb5+Fk\\x06\\xc5\\x9c\\xd9X\\x98\\xcc\\x11U8\\xddx\\x90\\xef\\xa2\\xc4R\\x06eh\\xb0\\x95A\\xa7}WB\\xf2d\\x9eD\\\\I\\xa0\\xe6U#E+k\\xb8\\xff\\x00\\xa5aO\\x848\\x15\\'\\xfd)\\xc1\\xc0\\x88\\x89K\\xda^\\x87\\xe8V\\x8cUF\\xf6\\xf6R\\x8e%T\\t\\x04|\"\\xf8\\xa7\\n\\xa8\\xf8,\\x01AG\\x83U\\x02\\xeb7/AQd\\xd8Na~\\xe0Y;\\x1b\\xcc\\x8f\\xd1\\xad\\x08?\\xfa3\\xf3Y9\\xdc1\\xcc \\xbe2\\xee\\x82\\xedyAwF\\x87\\x82b\\xde\\xf6\\x87\\xbe\\x00\\x85h\\xecA-$\\x19\\xd9eiq\\x01\\xe2\\x06\\x01\\xe5\\x1f\\x1a+\\\\\\x15v\\xb9\\x910A\\xf9FE`\\x83\\xe8\\xe2\\x1c\\xdb\\xb8z\\xee\\x80\\xe6hq\\x04n\\x11\\xb4Ih\\x9c\\xd2\\x06\\xca\\xa3\\x8aU\\xcd\\xa1)\"\\xf2RK\\x06{\\x12\\\\\\xc2\\x08\\x1f{#\\xa8\\xb6D0\\x91$N\\\\\\xc0\\xdf\\xaf\\x7f\\x943\\xab\\x86\\x92f\\xfdDJ7\\x83U\\x15\\x1er:f\\xff\\x00\\x86\\xc2?7S\\xaa\\x9c\\xf2\\xca\\xc7\\x08\\xbbkKZ\\x03\"\\xd6 \\\\\\x9f_\\xa7\\xa2?\\x87~\\x10\\x08\\x83\\x98\\x98\\xfa}@A\\xf8ocI\\xcf6\\x916\\x1a\\xcf\\xa9\\xff\\x00I\\xb8b\\xe9\\xca\\xf7\\x18\\x00\\xbd\\xc7H\\x02\\xed\\x13\\xd4\\xef\\xd9O\\xb51\\xaa\\xd0~\\x0e\\xb3\\x8b\\x1d\"\\x1c\\xe7[\\xd0E\\xfd,Q\\x94\\xdcm\\xd8\\x15U\\x83\\xc4\\xbc\\xd6\\xf0\\xdc\\xd8\\x00\\xda\\xf6\\x81\\xd3\\xe4|\\xabh N\\xf11\\xee\\x8c]\\x9aQ\\xa2F\\x993:\\xa9X\\xf8\\x91\\xa1@\\xf0\\xf7\\x1c\\xc4;{\\x8f\\xac\\x8fdM@w\\xb9\\x07^\\xdb&O\\x16+\\x8d:\\r\\xa2\\xd8D\\x02\\xa0\\xa4\\xe9\\x83\\xee\\xa5j\\xaa&\\xcaNrp\\xfeU\\xf3\\xa1\\x80g\\xd5M\\xcb\\xed\\x8aB:!\\xb9\\xcb\\x0f\\xe2P-\\x98\\x92?P\\xa6\\xe0\\x95Z\\xdaPM\\xe1\\x19!b\\xe8\\xf3~g\\xc2R~\"\\xa3\\x9c\\xe8$\\xc6\\xa3\\xd18r\\xa6\\x1caM]\\xf2\\xe6\\xcd?\\xba\\x9b\\x9a9|\\xcb\\xab\\x132\\xe9\\xf9*\\xe9\\xb4\\'\\x87\\xe4\\xebN\\x10\\x8ah\\x96\\x1c\\x99\\xe7\\xef\\xc2P\"3\\x7f\\xc9\\x0c\\xec=\\t\\xbb\\xbf\\xe4\\x8f\\xc4\\xf0\\x90\\xd3\\x1d\\xa5\\x17\\x86\\xe0M\\xcb\\x98\\xf5E,\\xe8\\x9e\\xce\\x1c6\\x8f\\x86\\x0c\\xfdU\\xc7.pzU&\\xf3\\x03\\xac\\xa1ip\\xe9\\xa7\\xd9Zr\\x85\\x08/\\x8e\\x81\\x15\\x1c\\x94M\\x11b\\xf8\\xbb\\x9a%:\\x97\\x18y{\\x1b\\xb3\\x95\\xb3\\xb9v\\x99\\x10tR\\xb3\\x97i\\x82\\xd26\\xd1\\x05\\xc8\\x0e\\x92\\x01\\xe2x\\xfa\\x94\\x8cD\\x82>\\xa8\\xac>\\x1e\\xbb\\xd8\\xd7\\x03\\x12\\x8e\\xc7p\\xe6>\\xee\\x8b\"\\xf8ePZ\\x00\\xda\\xc9\\xd4\\xac\\xd4\\xd3\\xc8N\\x17\\x847(.\\xd5d\\xb9\\x8a\\xbb\\x0b\\xb2\\r\\x05\\x96\\x9f\\x88\\xf1_\\r\\xa48D\\x8b/=\\xc4b\\x01q&\\xf2e4B\\xc2\\x1b\\\\0\\x80\\xd8\\x93\\xaa0TcO\\x90\\x1c\\xa65\\xd4\\x19\\xbc \\x05&\\xb9\\xbe&\\x87A\\xb4\\xc2\\xb1\\xc0\\x9al\\x00\\xba\\xee\\xd6\\xfa_e9\\x14\\x89j\\xd7\\xe6\\x0ec]\\x06=\\xc1U\\x18\\xbae\\xad\\r\\x99;\\xfa\\xa5\\xc6qR\\xc2\\x1c\\xc0\\t\\x07M\\xb4M5<L\\xb6>o\\xa2Xm\\xb1\\xe7\\xa4R\\xe3\\x98 \\xf5\\xdc\\x91dw\\x00{|F\\xb5\\xa0\\x97\\r\\x06\\x83\\xf0\\xde\\xf3:\\t\\xf6*o\\xe4\\xc3\\xaaes\\x08i\\xdc\\xe9\\x1b\\xc4\\xeeS\\xb0\\xbc,\\xb2\\xb3\\xbc\\xd7p\\x83\\x022\\x86\\xc3\\x8c|\\x11=\\xd4e\\xb2\\xabE\\xfb1\\xee\\x88,v\\xa1\\xa1\\xa2&]m{\\t(\\xacF\\x05\\xbaI\\xb9\\x04\\xed\\xa0\\x90=\\x10<+\\x14\\xf86\\xf3f!\\xa6\\xe2\\xd6\\xbd\\xcd\\xc5\\xfd\\xe1Z:Lk\\x19\\xbc\\xc4\\x8b\\x9d\\x05\\xa0[Y\\xf6J6\\xb4\\x0bB\\xbb|H I\\xfc.\\xd2n$v\\x88V\\xd8\\x83-\\x04\\x0b\\x91\\xbfk\\xc2\\x0b\\x17D\\x80\\xc2\\x04\\xc9\\x1fI\\xf9\\xb2}j\\x99Z\\xe1\\xa6[\\x89\\xe8f?C\\xf2\\xb2\\xc5\\xd9\\x9ei\\xa0\\xcaT\\xc1 \\xfd\\x8e\\xa1Ni\\x19\\xec\\x87\\xc3\\xd31 \\xde?pf\\x114\\xc9\\xbf\\xa9#\\xfc*!\\x19\\xd8pX \\xfb)\\xa6R4u\\xfb=\\x92\\x1bi\\xbad#\\xc9M\\xcduCi\\x93\\xd1d\\xb9{\\x8f\\xb3\\x10\\xec\\x80\\x11=V\\x93\\x9f\\x1f\\x97\\x0e\\xf3\\xd8\\xac\\x17\\xf0\\xf1\\x80\\xd4\\x07\\xa0\\n\\xd1##{\\xc4\\xf0\\x87(\\x02\\xea\\x01\\x85q\\xa1\\x94tV\\xdcE\\xd1\\x08:U\\xbc\\xa5,\\xa4d\\xb2Q\\xe2\\xf8\\x08x\\xbe\\xb1\\t\\xcd\\xe0\\xd0\\xd8\\x05[\\xe7\\\\\\x1c\\x93\\xe4`\\xf8\\xd0\\x0e\\x13\\x86\\x06\\xb3)?eK\\xc38x\\xa6\\xe3\\x97p\\x8da]A\\xf7EM\\xb3t\\x15\\xd2\\x14uqQ\\x16E\\x06\\xaeu\\x19\\xd9N\\x99B\\xb6\\xbe(8\\x11qdg/\\xb4\\x06[\\xaa\\x9cp\\xf2\\x7f\\xa5>\\xad#F\\x93\\x8e\\x90\\x15abH\\xc7\\xf3>5\\xd5*\\x96\\xe8\\x1bh\\x95@\\xeb\\xb8Z\\xdd\\xb5S\\xe2\\xea\\xe6$\\x9dI\\x943\\xeaA\\x88\\xb9\\xd0\\xaa\\xb1PP\\xa8\\x0b\\xa2b\\x07\\xcc(\\xb1\\x18\\x99\\xfe\\xa0v\\xb6\\xa8:\\x8f\\xca\\xe9p\\xbfT\\xcbf\\xcc/\">T\\x9b\\xb2\\xa9PEz\\x8e\\xd7\\xf5\\xdd]Px\\xf0\\xdaF\\xe0o\\xdbe\\x97\\xabV-$\\xf4\\x1a\\xad\\x16\\x00\\x97\\xd3hp\\xd2\\x08\\x8e\\xc8\\xa00\\xdc=6\\xdd\\xcdq\\xcd7\\xf2\\xe8\\x0e\\x97;B\\xb2\\xc1\\xe2[\\x97)\\xb9&\\x08\\x1d\\x04L\\x90/}V|\\x06\\xb4\\x1b\\x92\\xee\\xb9\\xa2=\\xb7V\\x9c2\\xab<\\xa2\\x9b\\x81\\x92K\\x88x\\x91y\\x83\\x97I2}\\xbd\\x94\\x19t\\xb0]Wd9\\xafc\\\\]\\x1eQ\\xa0\\x03\\xf3\\x11\\xf1\\xaf@\\x89\\xc1\\xb0\\xe6\\xbc\\xec\\x0c\\xde\\xf6\\x9f\\x92\\xe3\\xf0\\x84g\\x10\\x82\\\\\\xe2`\\xd9\\x8d\\x80K\\xa3\\xf2\\xfdQ\\x1c6\\xa1\\x02_\\x19\\xdc\\xeb\\x0e\\x925\\x93\\xac\\x00n\\x86,?E\\x8e)\\xd7`\\x1bf\\xf4\\xb0\\x84?\\x1a\\xaa)\\xd1\\xce[:\\x03\\xd8\\x13\\xbfi\\xfd\\xd3\\x98\\xe0\\xe3\\x94ls\\x8d\\xe6\\x1cF\\xbe\\xc7\\xd9\\x19\\x01\\xed3v\\x90A\\x1b\\x10\\x8e\\xec\\x1a\\xa2,#\\xc4\\x02\\r\\x8d\\x87\\xdf\\xaa,\\x0b\\t\\xd9S\\xd0\\xa1\\x93-6\\x9f,\\x12A\\xd6\\t\\xb4v\\n\\xd3\\n\\xd2\\x1b\\x06\\xfd:\\xc2\\xd1f\\x92\\xa2v\\xban\\x985\\xed\\xa8M{H\\x1e_\\x84\\xeaN\\x058\\x85/;a<L%Q\\xb8a#\\xd8/<\\xfe\\x167\\xce\\xee\\xd0\\xbds\\x13K3KN\\xe0\\x8b\\xaf?\\xe5\\\\\\x00\\xa3\\x8b\\xac\\xc0 \\x07XvU\\x8b#$j\\xf8\\x99\\x92\\x10\\x94\\x07\\x94\\xa2x\\x83\\xfc\\xc8j.\\xf2\\x157\\xb6\\x14F\\x932s\\\\\\x12)\\x04\\xe2\\xf2\\xba\\x8b\\xced\\xf0\\xdb&\\xd3>od\\xcbf.\\x1a\\x01\\x00\\xce\\xa8\\x8c;$\\xac\\xb7/q\\xc1Te&\\xe0t\\x88Z\\xec-A\\x16W\\xc2\\x17aLd*Nu|a^\\xae<U\\x98\\xe7\\xfa\\x8e\\x14-\\xa1!k3G\\x9d\\x13-\\x9b\\xa8\\xea:\\xc0\\xc5\\xc6\\x8ab\\xe8\\x17\\xd7T\\x05s\\xe5\\xd7tX\\x10\\xa2n]\\x04\\x1d\\xfd\\x7fD\\xc0\\xf1\\xa0\\xd4$n$\\x02\\x01i\\xf6\\xfd\\xd4\\xa0\\xc7\\x98\\xc7h\\xd7\\xd1L\\xa8?\\xf3\\x00\\x89\\r \\xf7Z\\x1e\\x1f\\x8d\\x02\\x9bt\\x04\\xb6G^\\xe7\\xd2Vo\\x10\\xd3\\xf8\\x80\\x89\\x99\\x0bS\\x80\\xa4\\x05\\x16[\\xfaD\\xf7F&\\x90\\xcaXf\\xd70\\xf7@\\x1a\\xf5\\xfa-\\x07\\r\\xc16\\xec\\x10\\x1b\\x1a\\x00\\x1aH\\x1a\\xcb\\x88\\x9fUC\\x85\\xaa\\x01\\xca\\xd7C\\x85\\xc0h\\xbf\\xa7DN>\\xbdV\\x02Z\\xf8\\xea\\t\\x04\\x91\\xd2;\\xe9\\n\\x0e\\x91e\\x93N\\xcc=7\\xb9\\xa5\\xb0r\\x83\\x94E\\x9a\\xde\\xd3\\xa4\\x93\\xafd\\xea\\xa7\\xc3mW\\xdc\\xbb,2\\xc0F\\xc2\\x00\\xf9*\\xb3\\x83b[O#\\\\\\xe9\\xa8\\xf8$\\x12\\\\\\xe2gA\\xb0\\x02\\xca\\xc7\\x18s\\xd4 \\x98inV\\xfa\\xcd\\xc9\\xfb\\xddg\\xa3-\\xd1c\\x81\\xa7\\x96\\t\\xd7+G\\xbc\\x10Q\\x14^<;lw\\xf9MdH\\xea\\x04{\\xae4\\xfc\\xae\\x03\\xf3\\x08\\xed\\xa0>\\xc8\\xd5\\x03d\\x8e\\xa0\\x0b\\x83\\xa2\\x08\\x80\\x14\\x85\\xe34!\\xb0u\\x1d`\\xfb;Q\\xb8:\\x88*Z`8\\xe6\\xdfC\\xec\\x8a~\\x8c\\xd7\\xb0\\x97T\\x10\\x95\\x80u\\xdf\\xe5q\\x03\\xa2F\\x88\\xb2rb\\xd5YzX\\x12\\xcc[\\xdet}\\xc7\\xb0Zj\\xc6.\\x80\\xc4a\\xb38>.?N\\xe9\\x93\\xa6+X\\x03\\xc7Fod3G\\x90\\xa5\\xe2$f\\xd5\\x04k\\xda\\x02\\x8f$\\xe9\\x89\\xd9\"R\\xdbJ\\x88\\x9b\\xea\\xa1uS\\t\\x85\\xe5E\\xf2\\t\\xf2\\x04\\xb8\\x98\\x99Q\\x1a\\xe7\\xdd1\\xb5mu\\x1c\\xa5\\x94\\xd8\\xbd\\xd9\\x83\\xc1\\xe3M2\\x1c\\x0c\\t\\xd0jW\\xaf\\xf2\\xce5\\xb5i4\\x824\\xb8\\x9d=W\\x80\\xb3\\x11\\x94\\x0f7\\xba\\xd9rW0\\xf8o\\x8c\\xe4\\x03\\xef+\\xba\\xce\\x8e\\xb4{.X+9\\xcfu?\\xfc@\\xee\\xaf\\xb8n#;\\x01;\\xac\\x9f\\xf1\\x0e\\xb9hkf\\xd2\\x8a\\x04\\xb4b\\xb1\\r\\x08\\n\\xa6`\\x0b\\xc2\\x9f\\x10\\xf2D\\xa40`\\xf4\\x17\\x84\\xd2\\x16\\x03(\\xd131?\\xd9MY\\xa4\\x99\\xd8_\\xfd(j\\xbfA{\\x9fU+\\xaa8\\x08\\x02G\\xa01\\xf2\\xa4Z\\x8a\\xdcuI\\xfc$\\xecH\\xfa-f\\x04E*b\\xfa\\x0b,\\xadbg\\xd7\\xb0\\x04|-\\x1d79\\xd4\\x18I- \\t\\x8e\\x9a&XB\\xbc\\xb0\\xbc5\\x17\\x02\\xec\\xa3]z\\xa11\\xb5^KZ@k\\x9d\\xa0\\xec&\\xe7\\xe1[p\\xa6\\x98\\xcd\\xa5\\x85\\xcc\\t\\xef3d(\\x00\\xd65\\x01.~R\\xdc\\xc7@ \\xfe\\x11\\xec.\\xa12\\xd0\"\\xe1\\x8ew\\x8e\\x0ba\\xee\\x12F\\xcd\\x07,\\x13}\\xa3m\\x16\\x9b6F\\xba\\xa4\\xe6s\\x00\\x044H\\xcc\\xe1\\'\\xe2\\xc1fj\\xb1\\xecpm \\x00\\x8c\\xcf$\\x93i\\xdc\\xf7#\\xe0+N\\x03\\x8ah\\xcfJ\\xe39/2dE\\x84\\x03\\xb0\\x06~\\xc2U\\xe8f\\xbe\\xcdF\\x1d\\xc4\\x9c\\xe0\\x98.\\x166\\x8bo\\xdeQ\\xd5\\xaa\\xc0\\xb7\\xe6\\x8bnJ\\xad\\x18\\x90i\\xe6n\\xf0\\xc8\\xd8m\\x9b\\xd9\\x1fF\\xf6\\xf4#\\xd7\\xec\\'\\xfe\\x08\\xfd\\x9d\\xe3\\x06\\xe5\\x99\\x8e\\xbd\\x0f~\\xc8\\x86\\xb0k\\x1f\\x08|S$\\x08\\x12C\\xae;\\'a\\x1dh\\x9b\\x8d;\\x8d\\x8a+t\\x07\\xab\\r\\xd5#w\\x1d\\x12\\xb0\\xaejq\\x04!FB!\\xa1F\\xe1x\\x84X\\x17\\xa3+\\xc6)\\x10\\xf2v\"\\xc5U\\x92\\xaf\\xb9\\x81\\x8466\\x0e\\x91\\xef\\xa8T u\\\\\\x9c\\xab\\xf29\\xe5\\x16\\xde\\x05\\xa8\\xf3\\t\\x85\\xeap\\xc0\\xed\\xd3\\x1e\\xc1\\xd5#\\x8b7\\xc3?D^.\\xd0\\x9a\\x1e\\xa6\\xca\\x00\\x95\\x1b\\x80BV\\xbe\\xc9\\xca.;?\\xff\\xd9'"
            ]
          },
          "metadata": {
            "tags": []
          },
          "execution_count": 13
        }
      ]
    },
    {
      "cell_type": "code",
      "metadata": {
        "id": "SJAUopnhIV3C"
      },
      "source": [
        "img = PILImage.create(btn_upload.data[-1])"
      ],
      "execution_count": 20,
      "outputs": []
    },
    {
      "cell_type": "code",
      "metadata": {
        "colab": {
          "base_uri": "https://localhost:8080/",
          "height": 200
        },
        "id": "rfg90ohcIgS7",
        "outputId": "e0aef913-200a-4cb2-8422-ce0c8c3ec730"
      },
      "source": [
        "img"
      ],
      "execution_count": 21,
      "outputs": [
        {
          "output_type": "execute_result",
          "data": {
            "image/png": "[encoded data removed]",
            "text/plain": [
              "PILImage mode=RGB size=275x183"
            ]
          },
          "metadata": {
            "tags": []
          },
          "execution_count": 21
        }
      ]
    },
    {
      "cell_type": "code",
      "metadata": {
        "colab": {
          "base_uri": "https://localhost:8080/",
          "height": 34
        },
        "id": "TxKhnWo9Il7W",
        "outputId": "9e386f04-6fff-458c-b760-74c1527ff925"
      },
      "source": [
        "pred, pred_idx, probs = learn_inf.predict(img)\n",
        "pred, pred_idx, probs"
      ],
      "execution_count": 22,
      "outputs": [
        {
          "output_type": "display_data",
          "data": {
            "text/html": [
              ""
            ],
            "text/plain": [
              "<IPython.core.display.HTML object>"
            ]
          },
          "metadata": {
            "tags": []
          }
        },
        {
          "output_type": "execute_result",
          "data": {
            "text/plain": [
              "('alpaca', tensor(0), tensor([0.9866, 0.0134]))"
            ]
          },
          "metadata": {
            "tags": []
          },
          "execution_count": 22
        }
      ]
    },
    {
      "cell_type": "code",
      "metadata": {
        "colab": {
          "base_uri": "https://localhost:8080/",
          "height": 49,
          "referenced_widgets": [
            "57f6632ee8f947089b89f563f86a9a36",
            "1153aeed8cf54af8b2f0a86e732cb65f",
            "1ca1aeb653464c30bcdac78f8d964aed"
          ]
        },
        "id": "wvjL2VIjI75N",
        "outputId": "b578a79d-3e7b-453d-9413-8ee3040fcb28"
      },
      "source": [
        "lbl_pred = widgets.Label()\n",
        "lbl_pred.value = f'Prediction: {pred}; Probability: {probs[pred_idx]:.04f}'\n",
        "lbl_pred"
      ],
      "execution_count": 23,
      "outputs": [
        {
          "output_type": "display_data",
          "data": {
            "application/vnd.jupyter.widget-view+json": {
              "model_id": "57f6632ee8f947089b89f563f86a9a36",
              "version_minor": 0,
              "version_major": 2
            },
            "text/plain": [
              "Label(value='Prediction: alpaca; Probability: 0.9866')"
            ]
          },
          "metadata": {
            "tags": []
          }
        }
      ]
    },
    {
      "cell_type": "code",
      "metadata": {
        "id": "suwCuv5lScG9",
        "outputId": "432c69bb-1740-4d7a-bf22-92daea3e0d20",
        "colab": {
          "base_uri": "https://localhost:8080/",
          "height": 49,
          "referenced_widgets": [
            "93266b5f4e0744cc93ce71b4796fc19a",
            "4a33b246ee1346298ff69b56b1cfc9e2",
            "1ae612a04e34464e88c0aeee5ef7b3a3"
          ]
        }
      },
      "source": [
        "btn_run = widgets.Button(description='Classify')\n",
        "btn_run"
      ],
      "execution_count": 27,
      "outputs": [
        {
          "output_type": "display_data",
          "data": {
            "application/vnd.jupyter.widget-view+json": {
              "model_id": "93266b5f4e0744cc93ce71b4796fc19a",
              "version_minor": 0,
              "version_major": 2
            },
            "text/plain": [
              "Button(description='Classify', style=ButtonStyle())"
            ]
          },
          "metadata": {
            "tags": []
          }
        }
      ]
    },
    {
      "cell_type": "markdown",
      "metadata": {
        "id": "vZcFMXmkTa3f"
      },
      "source": [
        "Output placeholder widget"
      ]
    },
    {
      "cell_type": "code",
      "metadata": {
        "id": "l0kfrg8DTeN4",
        "outputId": "ce7c92a6-86a9-4098-d1e1-ab00a7a0b13b",
        "colab": {
          "base_uri": "https://localhost:8080/",
          "height": 89,
          "referenced_widgets": [
            "bffb863971bf4cbea94978e500e4c46e",
            "7a99117bf8c5463893d5013e5ef18c25"
          ]
        }
      },
      "source": [
        "out_pl = widgets.Output()\n",
        "out_pl.clear_output()\n",
        "with out_pl:\n",
        "  display(img.to_thumb(128, 128))\n",
        "out_pl"
      ],
      "execution_count": 28,
      "outputs": [
        {
          "output_type": "display_data",
          "data": {
            "application/vnd.jupyter.widget-view+json": {
              "model_id": "bffb863971bf4cbea94978e500e4c46e",
              "version_minor": 0,
              "version_major": 2
            },
            "text/plain": [
              "Output()"
            ]
          },
          "metadata": {
            "tags": []
          }
        }
      ]
    },
    {
      "cell_type": "code",
      "metadata": {
        "id": "-zat0wxwS7Kw"
      },
      "source": [
        "def on_click_classify(change):\n",
        "  img = PILImage.create(btn_upload.data[-1])\n",
        "  with out_pl:\n",
        "    display(img.to_thumb(128, 128))\n",
        "  pred, pred_idx, probs = learn_inf.predict(img)\n",
        "  lbl_pred.value = f'Prediction: {pred}; Probability: {probs[pred_idx]:.04f}'\n",
        "\n",
        "btn_run.on_click(on_click_classify)"
      ],
      "execution_count": 29,
      "outputs": []
    },
    {
      "cell_type": "code",
      "metadata": {
        "id": "jC_tX2KVT_n_"
      },
      "source": [
        "btn_upload = widgets.FileUpload()"
      ],
      "execution_count": null,
      "outputs": []
    },
    {
      "cell_type": "code",
      "metadata": {
        "id": "-IbVlJcWUtqp"
      },
      "source": [
        "out_pl.clear_output()"
      ],
      "execution_count": 31,
      "outputs": []
    },
    {
      "cell_type": "code",
      "metadata": {
        "id": "kx2i9DKSUNyd",
        "outputId": "6134f8eb-a39d-4f5a-fbdb-f7a643fae178",
        "colab": {
          "base_uri": "https://localhost:8080/",
          "height": 217,
          "referenced_widgets": [
            "69a0c0b2c94e4c1a809a8a0a008942c5",
            "64620e78a8594f2c9fa5d294f3636592",
            "f0dbc2d5275d45e0a5064867426036bd",
            "00c851edddd746909a3d4aef2de3a259",
            "93266b5f4e0744cc93ce71b4796fc19a",
            "bffb863971bf4cbea94978e500e4c46e",
            "57f6632ee8f947089b89f563f86a9a36",
            "867495cbb6ff422d9f15580736e24f94",
            "b2d9aaf91d9a4763ad5e437443eedf35",
            "e8b98abd42ed454eb35d3e597e86008b",
            "4f9560773a1346d2aa3e966265ffc497",
            "4a33b246ee1346298ff69b56b1cfc9e2",
            "1ae612a04e34464e88c0aeee5ef7b3a3",
            "1153aeed8cf54af8b2f0a86e732cb65f",
            "1ca1aeb653464c30bcdac78f8d964aed",
            "7a99117bf8c5463893d5013e5ef18c25"
          ]
        }
      },
      "source": [
        "VBox([widgets.Label('Select your alpaka or sheep image!'),\n",
        "      btn_upload, btn_run, out_pl, lbl_pred])"
      ],
      "execution_count": 32,
      "outputs": [
        {
          "output_type": "display_data",
          "data": {
            "application/vnd.jupyter.widget-view+json": {
              "model_id": "69a0c0b2c94e4c1a809a8a0a008942c5",
              "version_minor": 0,
              "version_major": 2
            },
            "text/plain": [
              "VBox(children=(Label(value='Select your alpaka or sheep image!'), FileUpload(value={'alpaka_bsp1.jpeg': {'meta…"
            ]
          },
          "metadata": {
            "tags": []
          }
        },
        {
          "output_type": "display_data",
          "data": {
            "text/html": [
              ""
            ],
            "text/plain": [
              "<IPython.core.display.HTML object>"
            ]
          },
          "metadata": {
            "tags": []
          }
        }
      ]
    },
    {
      "cell_type": "code",
      "metadata": {
        "id": "irQvu2wWUdmq"
      },
      "source": [
        ""
      ],
      "execution_count": null,
      "outputs": []
    }
  ]
}